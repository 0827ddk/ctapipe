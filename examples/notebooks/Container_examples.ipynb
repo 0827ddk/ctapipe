{
 "cells": [
  {
   "cell_type": "code",
   "execution_count": 1,
   "metadata": {
    "collapsed": false
   },
   "outputs": [],
   "source": [
    "from ctapipe.core import Container, Item, Map\n",
    "import numpy as np"
   ]
  },
  {
   "cell_type": "code",
   "execution_count": 25,
   "metadata": {
    "collapsed": false
   },
   "outputs": [],
   "source": [
    "class SubContainer(Container):\n",
    "    junk = Item(\"nothing\",\"Some junk\")\n",
    "\n",
    "class EventContainer(Container):\n",
    "    event_id = Item(-1,\"event id number\")\n",
    "    tels_with_data = Item([], \"list of telescopes with data\")\n",
    "    sub = Item(SubContainer(), \"stuff\")  # a sub-container in the hierarchy\n",
    "\n",
    "    # for dicts of sub-containers, use Map instead \n",
    "    # of a dict() as the default value to support serialization\n",
    "    tel = Item(Map(), \"telescopes\")  \n"
   ]
  },
  {
   "cell_type": "code",
   "execution_count": 26,
   "metadata": {
    "collapsed": false
   },
   "outputs": [],
   "source": [
    "ev = EventContainer()"
   ]
  },
  {
   "cell_type": "markdown",
   "metadata": {},
   "source": [
    "default values automatically filled in"
   ]
  },
  {
   "cell_type": "code",
   "execution_count": 27,
   "metadata": {
    "collapsed": false
   },
   "outputs": [
    {
     "name": "stdout",
     "output_type": "stream",
     "text": [
      "-1\n",
      "[]\n",
      "{}\n"
     ]
    }
   ],
   "source": [
    "print(ev.event_id)\n",
    "print(ev.tels_with_data)\n",
    "print(ev.tel)"
   ]
  },
  {
   "cell_type": "code",
   "execution_count": 28,
   "metadata": {
    "collapsed": false
   },
   "outputs": [
    {
     "name": "stdout",
     "output_type": "stream",
     "text": [
      "{'_metadata': {},\n",
      " 'event_id': -1,\n",
      " 'sub': {'_metadata': {}, 'junk': 'nothing'},\n",
      " 'tel': {},\n",
      " 'tels_with_data': []}\n"
     ]
    }
   ],
   "source": [
    "print(ev)"
   ]
  },
  {
   "cell_type": "markdown",
   "metadata": {},
   "source": [
    "values can be set as normal for a class:"
   ]
  },
  {
   "cell_type": "code",
   "execution_count": 6,
   "metadata": {
    "collapsed": false
   },
   "outputs": [
    {
     "data": {
      "text/plain": [
       "100"
      ]
     },
     "execution_count": 6,
     "metadata": {},
     "output_type": "execute_result"
    }
   ],
   "source": [
    "ev.event_id = 100\n",
    "ev.event_id"
   ]
  },
  {
   "cell_type": "code",
   "execution_count": 7,
   "metadata": {
    "collapsed": false
   },
   "outputs": [
    {
     "data": {
      "text/plain": [
       "{'_metadata': {},\n",
       " 'event_id': 100,\n",
       " 'sub': <__main__.SubContainer at 0x109bd6f98>,\n",
       " 'tel': {},\n",
       " 'tels_with_data': []}"
      ]
     },
     "execution_count": 7,
     "metadata": {},
     "output_type": "execute_result"
    }
   ],
   "source": [
    "ev.as_dict()  # by default only shows the bare items, not sub-containers (See later)"
   ]
  },
  {
   "cell_type": "code",
   "execution_count": 8,
   "metadata": {
    "collapsed": false
   },
   "outputs": [
    {
     "data": {
      "text/plain": [
       "{'_metadata': {},\n",
       " 'event_id': 100,\n",
       " 'sub': {'_metadata': {}, 'junk': 'nothing'},\n",
       " 'tel': {},\n",
       " 'tels_with_data': []}"
      ]
     },
     "execution_count": 8,
     "metadata": {},
     "output_type": "execute_result"
    }
   ],
   "source": [
    "ev.as_dict(recursive=True)"
   ]
  },
  {
   "cell_type": "markdown",
   "metadata": {},
   "source": [
    "Now, let's define a sub-container that we can add per telescope:"
   ]
  },
  {
   "cell_type": "code",
   "execution_count": 9,
   "metadata": {
    "collapsed": false
   },
   "outputs": [],
   "source": [
    "class TelContainer(Container):\n",
    "    tel_id = Item(-1, \"telescope ID number\")\n",
    "    image = Item(np.zeros(10), \"camera pixel data\")\n",
    "\n"
   ]
  },
  {
   "cell_type": "markdown",
   "metadata": {},
   "source": [
    "and we can add a few of these to the parent container inside the tel dict:"
   ]
  },
  {
   "cell_type": "code",
   "execution_count": 10,
   "metadata": {
    "collapsed": false
   },
   "outputs": [],
   "source": [
    "ev.tel[10] = TelContainer()\n",
    "ev.tel[5] = TelContainer()\n",
    "ev.tel[42] = TelContainer()"
   ]
  },
  {
   "cell_type": "code",
   "execution_count": 11,
   "metadata": {
    "collapsed": false
   },
   "outputs": [
    {
     "data": {
      "text/plain": [
       "{5: <__main__.TelContainer at 0x109be04e0>,\n",
       " 10: <__main__.TelContainer at 0x109be04a8>,\n",
       " 42: <__main__.TelContainer at 0x109be0550>}"
      ]
     },
     "execution_count": 11,
     "metadata": {},
     "output_type": "execute_result"
    }
   ],
   "source": [
    "ev.tel"
   ]
  },
  {
   "cell_type": "markdown",
   "metadata": {},
   "source": [
    "### converion to dictionaries"
   ]
  },
  {
   "cell_type": "code",
   "execution_count": 19,
   "metadata": {
    "collapsed": false
   },
   "outputs": [
    {
     "data": {
      "text/plain": [
       "{'_metadata': {},\n",
       " 'event_id': 100,\n",
       " 'sub': <__main__.SubContainer at 0x109bd6f98>,\n",
       " 'tel': {5: <__main__.TelContainer at 0x109be04e0>,\n",
       "  10: <__main__.TelContainer at 0x109be04a8>,\n",
       "  42: <__main__.TelContainer at 0x109be0550>},\n",
       " 'tels_with_data': []}"
      ]
     },
     "execution_count": 19,
     "metadata": {},
     "output_type": "execute_result"
    }
   ],
   "source": [
    "ev.as_dict()"
   ]
  },
  {
   "cell_type": "code",
   "execution_count": 20,
   "metadata": {
    "collapsed": false
   },
   "outputs": [
    {
     "data": {
      "text/plain": [
       "{'_metadata': {},\n",
       " 'event_id': 100,\n",
       " 'sub': {'_metadata': {}, 'junk': 'nothing'},\n",
       " 'tel': {5: {'_metadata': {},\n",
       "   'image': array([ 9.,  9.,  9.,  9.,  9.,  9.,  9.,  9.,  9.,  9.]),\n",
       "   'tel_id': -1},\n",
       "  10: {'_metadata': {},\n",
       "   'image': array([ 0.,  0.,  0.,  0.,  0.,  0.,  0.,  0.,  0.,  0.]),\n",
       "   'tel_id': -1},\n",
       "  42: {'_metadata': {},\n",
       "   'image': array([ 0.,  0.,  0.,  0.,  0.,  0.,  0.,  0.,  0.,  0.]),\n",
       "   'tel_id': -1}},\n",
       " 'tels_with_data': []}"
      ]
     },
     "execution_count": 20,
     "metadata": {},
     "output_type": "execute_result"
    }
   ],
   "source": [
    "ev.as_dict(recursive=True, flatten=False)"
   ]
  },
  {
   "cell_type": "markdown",
   "metadata": {},
   "source": [
    "for serialization to a table, we can even flatten the output into a single set of columns"
   ]
  },
  {
   "cell_type": "code",
   "execution_count": 21,
   "metadata": {
    "collapsed": false
   },
   "outputs": [
    {
     "data": {
      "text/plain": [
       "{'_metadata': {},\n",
       " 'event_id': 100,\n",
       " 'sub__metadata': {},\n",
       " 'sub_junk': 'nothing',\n",
       " 'tel_10': {'_metadata': {},\n",
       "  'image': array([ 0.,  0.,  0.,  0.,  0.,  0.,  0.,  0.,  0.,  0.]),\n",
       "  'tel_id': -1},\n",
       " 'tel_42': {'_metadata': {},\n",
       "  'image': array([ 0.,  0.,  0.,  0.,  0.,  0.,  0.,  0.,  0.,  0.]),\n",
       "  'tel_id': -1},\n",
       " 'tel_5': {'_metadata': {},\n",
       "  'image': array([ 9.,  9.,  9.,  9.,  9.,  9.,  9.,  9.,  9.,  9.]),\n",
       "  'tel_id': -1},\n",
       " 'tels_with_data': []}"
      ]
     },
     "execution_count": 21,
     "metadata": {},
     "output_type": "execute_result"
    }
   ],
   "source": [
    "ev.as_dict(recursive=True, flatten=True)"
   ]
  },
  {
   "cell_type": "markdown",
   "metadata": {},
   "source": [
    "### setting and clearing values"
   ]
  },
  {
   "cell_type": "code",
   "execution_count": 23,
   "metadata": {
    "collapsed": false
   },
   "outputs": [
    {
     "name": "stdout",
     "output_type": "stream",
     "text": [
      "{'_metadata': {},\n",
      " 'event_id': 100,\n",
      " 'sub': {'_metadata': {}, 'junk': 'nothing'},\n",
      " 'tel': {5: {'_metadata': {},\n",
      "             'image': array([ 9.,  9.,  9.,  9.,  9.,  9.,  9.,  9.,  9.,  9.]),\n",
      "             'tel_id': -1},\n",
      "         10: {'_metadata': {},\n",
      "              'image': array([ 0.,  0.,  0.,  0.,  0.,  0.,  0.,  0.,  0.,  0.]),\n",
      "              'tel_id': -1},\n",
      "         42: {'_metadata': {},\n",
      "              'image': array([ 0.,  0.,  0.,  0.,  0.,  0.,  0.,  0.,  0.,  0.]),\n",
      "              'tel_id': -1}},\n",
      " 'tels_with_data': []}\n"
     ]
    }
   ],
   "source": [
    "ev.tel[5].image[:] = 9\n",
    "print(ev)"
   ]
  },
  {
   "cell_type": "code",
   "execution_count": 24,
   "metadata": {
    "collapsed": false
   },
   "outputs": [
    {
     "data": {
      "text/plain": [
       "{'_metadata': {},\n",
       " 'event_id': -1,\n",
       " 'sub__metadata': {},\n",
       " 'sub_junk': 'nothing',\n",
       " 'tels_with_data': []}"
      ]
     },
     "execution_count": 24,
     "metadata": {},
     "output_type": "execute_result"
    }
   ],
   "source": [
    "ev.reset()\n",
    "ev.as_dict(recursive=True, flatten=True)"
   ]
  },
  {
   "cell_type": "code",
   "execution_count": null,
   "metadata": {
    "collapsed": false
   },
   "outputs": [],
   "source": []
  },
  {
   "cell_type": "code",
   "execution_count": null,
   "metadata": {
    "collapsed": true
   },
   "outputs": [],
   "source": []
  }
 ],
 "metadata": {
  "anaconda-cloud": {},
  "kernelspec": {
   "display_name": "Python [conda root]",
   "language": "python",
   "name": "conda-root-py"
  },
  "language_info": {
   "codemirror_mode": {
    "name": "ipython",
    "version": 3
   },
   "file_extension": ".py",
   "mimetype": "text/x-python",
   "name": "python",
   "nbconvert_exporter": "python",
   "pygments_lexer": "ipython3",
   "version": "3.5.2"
  }
 },
 "nbformat": 4,
 "nbformat_minor": 1
}
