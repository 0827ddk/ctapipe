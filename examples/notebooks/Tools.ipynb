{
 "cells": [
  {
   "cell_type": "code",
   "execution_count": 1,
   "metadata": {
    "collapsed": false
   },
   "outputs": [],
   "source": [
    "from ctapipe.core import Tool, Component\n",
    "from traitlets import (Integer, Float, List, Dict,Unicode, TraitError, observe)\n",
    "import logging\n",
    "from time import sleep"
   ]
  },
  {
   "cell_type": "markdown",
   "metadata": {},
   "source": [
    "see https://github.com/ipython/traitlets/blob/master/examples/myapp.py"
   ]
  },
  {
   "cell_type": "markdown",
   "metadata": {},
   "source": [
    "# Setup:\n",
    "\n",
    "Create a few `Component`s and put them into a `Tool`:"
   ]
  },
  {
   "cell_type": "code",
   "execution_count": 2,
   "metadata": {
    "collapsed": false
   },
   "outputs": [],
   "source": [
    "class MyComponent(Component):\n",
    "    description = \"Do some things\"\n",
    "\n",
    "    value = Integer(default_value=-1, help=\"Value to use\").tag(config=True)\n",
    "\n",
    "    def do_thing(self):\n",
    "        self.log.debug(\"Did thing\")\n",
    "\n",
    "# in order to have 2 of the same components at once\n",
    "class SecondaryMyComponent(MyComponent):\n",
    "    pass\n",
    "\n",
    "\n",
    "class AdvancedComponent(Component):\n",
    "    name=\"AdvancedComponent\"\n",
    "    description = \"something more advanced\"\n",
    "\n",
    "    value1 = Integer(default_value=-1, help=\"Value to use\").tag(config=True)\n",
    "    infile = Unicode(help=\"input file name\").tag(config=True)\n",
    "    outfile = Unicode(help=\"output file name\").tag(config=True)\n",
    "\n",
    "    @observe('outfile')\n",
    "    def on_outfile_changed(self, change):\n",
    "        self.log.warning(\"Outfile was changed to '{}'\".format(change))\n",
    "\n",
    "\n",
    "class MyTool(Tool):\n",
    "    name=\"mytool\"\n",
    "    description=\"do some things and stuff\"\n",
    "    aliases = Dict(dict(infile='AdvancedComponent.infile',\n",
    "                        iterations='MyTool.iterations'))\n",
    "\n",
    "    # Which classes are registered for configuration\n",
    "    classes = List([MyComponent, AdvancedComponent, SecondaryMyComponent])\n",
    "\n",
    "    # local configuration parameters\n",
    "    iterations = Integer(5,help=\"Number of times to run\",allow_none=False).tag(config=True)\n",
    "\n",
    "    def setup_comp(self):\n",
    "        self.comp = MyComponent(self, config=self.config)\n",
    "        self.comp2 = SecondaryMyComponent(self, config=self.config)\n",
    "\n",
    "    def setup_advanced(self):\n",
    "        self.advanced = AdvancedComponent(self, config=self.config)\n",
    "\n",
    "    def setup(self):\n",
    "        self.setup_comp()\n",
    "        self.setup_advanced()\n",
    "\n",
    "    def start(self):\n",
    "        self.log.info(\"Performing {} iterations...\".format(self.iterations))\n",
    "        for ii in range(self.iterations):\n",
    "            self.log.info(\"ITERATION {}\".format(ii))\n",
    "            self.comp.do_thing()\n",
    "            self.comp2.do_thing()\n",
    "            sleep(0.5)\n",
    "            \n",
    "    def finish(self):\n",
    "        self.log.warning(\"Shutting down.\")\n",
    "    \n"
   ]
  },
  {
   "cell_type": "markdown",
   "metadata": {},
   "source": [
    "# Get Help info\n",
    "\n",
    "The following allows you to print the help info within a Jupyter notebook, but this same inforamtion would be displayed if the user types:\n",
    "```\n",
    "  mytool --help\n",
    "```"
   ]
  },
  {
   "cell_type": "code",
   "execution_count": 3,
   "metadata": {
    "collapsed": true
   },
   "outputs": [],
   "source": [
    "tool=MyTool()"
   ]
  },
  {
   "cell_type": "code",
   "execution_count": 4,
   "metadata": {
    "collapsed": false
   },
   "outputs": [
    {
     "name": "stdout",
     "output_type": "stream",
     "text": [
      "do some things and stuff\n",
      "\n",
      "Options\n",
      "-------\n",
      "\n",
      "Arguments that take values are actually convenience aliases to full\n",
      "Configurables, whose aliases are listed on the help line. For more information\n",
      "on full configurables, see '--help-all'.\n",
      "\n",
      "--log_level=<Enum> (Application.log_level)\n",
      "    Default: 30\n",
      "    Choices: (0, 10, 20, 30, 40, 50, 'DEBUG', 'INFO', 'WARN', 'ERROR', 'CRITICAL')\n",
      "    Set the log level by value or name.\n",
      "--iterations=<Int> (MyTool.iterations)\n",
      "    Default: 5\n",
      "    Number of times to run\n",
      "--config=<Unicode> (Tool.config_file)\n",
      "    Default: ''\n",
      "    name of a configuration file with parameters to load in addition to command-\n",
      "    line parameters\n",
      "--infile=<Unicode> (AdvancedComponent.infile)\n",
      "    Default: ''\n",
      "    input file name\n",
      "\n",
      "To see all available configurables, use `--help-all`\n",
      "\n"
     ]
    }
   ],
   "source": [
    "tool.print_help()"
   ]
  },
  {
   "cell_type": "markdown",
   "metadata": {},
   "source": [
    "The following  is equivalant to the user typing `mytool --help-all`"
   ]
  },
  {
   "cell_type": "code",
   "execution_count": 5,
   "metadata": {
    "collapsed": false
   },
   "outputs": [
    {
     "name": "stdout",
     "output_type": "stream",
     "text": [
      "do some things and stuff\n",
      "\n",
      "Options\n",
      "-------\n",
      "\n",
      "Arguments that take values are actually convenience aliases to full\n",
      "Configurables, whose aliases are listed on the help line. For more information\n",
      "on full configurables, see '--help-all'.\n",
      "\n",
      "--log_level=<Enum> (Application.log_level)\n",
      "    Default: 30\n",
      "    Choices: (0, 10, 20, 30, 40, 50, 'DEBUG', 'INFO', 'WARN', 'ERROR', 'CRITICAL')\n",
      "    Set the log level by value or name.\n",
      "--iterations=<Int> (MyTool.iterations)\n",
      "    Default: 5\n",
      "    Number of times to run\n",
      "--config=<Unicode> (Tool.config_file)\n",
      "    Default: ''\n",
      "    name of a configuration file with parameters to load in addition to command-\n",
      "    line parameters\n",
      "--infile=<Unicode> (AdvancedComponent.infile)\n",
      "    Default: ''\n",
      "    input file name\n",
      "\n",
      "Class parameters\n",
      "----------------\n",
      "\n",
      "Parameters are set from command-line arguments of the form:\n",
      "`--Class.trait=value`. This line is evaluated in Python, so simple expressions\n",
      "are allowed, e.g.:: `--C.a='range(3)'` For setting C.a=[0,1,2].\n",
      "\n",
      "MyTool options\n",
      "--------------\n",
      "--MyTool.config_file=<Unicode>\n",
      "    Default: ''\n",
      "    name of a configuration file with parameters to load in addition to command-\n",
      "    line parameters\n",
      "--MyTool.iterations=<Int>\n",
      "    Default: 5\n",
      "    Number of times to run\n",
      "--MyTool.log_datefmt=<Unicode>\n",
      "    Default: '%Y-%m-%d %H:%M:%S'\n",
      "    The date format used by logging formatters for %(asctime)s\n",
      "--MyTool.log_format=<Unicode>\n",
      "    Default: '[%(name)s]%(highlevel)s %(message)s'\n",
      "    The Logging format template\n",
      "--MyTool.log_level=<Enum>\n",
      "    Default: 30\n",
      "    Choices: (0, 10, 20, 30, 40, 50, 'DEBUG', 'INFO', 'WARN', 'ERROR', 'CRITICAL')\n",
      "    Set the log level by value or name.\n",
      "\n",
      "MyComponent options\n",
      "-------------------\n",
      "--MyComponent.value=<Int>\n",
      "    Default: -1\n",
      "    Value to use\n",
      "\n",
      "AdvancedComponent options\n",
      "-------------------------\n",
      "--AdvancedComponent.infile=<Unicode>\n",
      "    Default: ''\n",
      "    input file name\n",
      "--AdvancedComponent.outfile=<Unicode>\n",
      "    Default: ''\n",
      "    output file name\n",
      "--AdvancedComponent.value1=<Int>\n",
      "    Default: -1\n",
      "    Value to use\n",
      "\n",
      "SecondaryMyComponent options\n",
      "----------------------------\n",
      "--SecondaryMyComponent.value=<Int>\n",
      "    Default: -1\n",
      "    Value to use\n",
      "\n"
     ]
    }
   ],
   "source": [
    "tool.print_help(classes=True)"
   ]
  },
  {
   "cell_type": "markdown",
   "metadata": {},
   "source": [
    "# Run the tool\n",
    "\n",
    "here we pass in argv since it is a Notebook, but if argv is not specified it's read from `sys.argv`, so the following is the same as running:\n",
    "\n",
    "```sh\n",
    "mytool --log_level=INFO --infile bork.txt --iterations=3\n",
    "```"
   ]
  },
  {
   "cell_type": "code",
   "execution_count": 6,
   "metadata": {
    "collapsed": false
   },
   "outputs": [
    {
     "name": "stderr",
     "output_type": "stream",
     "text": [
      "2016-06-28 18:25:08 : INFO [MyTool initialize] version 0.0.dev663 [release=False] [githash=aae0d5150c2c8bd7957cbdf4f4b05cb74af506a7]\n",
      "2016-06-28 18:25:08 : INFO [MyTool run] Starting: mytool\n",
      "2016-06-28 18:25:08 : INFO [MyTool start] Performing 3 iterations...\n",
      "2016-06-28 18:25:08 : INFO [MyTool start] ITERATION 0\n",
      "2016-06-28 18:25:08 : INFO [MyTool start] ITERATION 1\n",
      "2016-06-28 18:25:09 : INFO [MyTool start] ITERATION 2\n",
      "2016-06-28 18:25:09 : WARNING [MyTool finish] Shutting down.\n"
     ]
    }
   ],
   "source": [
    "tool.log_format = \"%(asctime)s : %(levelname)s [%(name)s %(funcName)s] %(message)s\" \n",
    "tool.run(argv=['--log_level','INFO','--infile','bork.txt','--iterations','3'])"
   ]
  },
  {
   "cell_type": "markdown",
   "metadata": {},
   "source": [
    "here we change the log-level to DEBUG:"
   ]
  },
  {
   "cell_type": "code",
   "execution_count": 7,
   "metadata": {
    "collapsed": false
   },
   "outputs": [
    {
     "name": "stderr",
     "output_type": "stream",
     "text": [
      "2016-06-28 18:25:11 : INFO [MyTool initialize] version 0.0.dev663 [release=False] [githash=aae0d5150c2c8bd7957cbdf4f4b05cb74af506a7]\n",
      "2016-06-28 18:25:11 : INFO [MyTool run] Starting: mytool\n",
      "2016-06-28 18:25:11 : DEBUG [MyTool run] CONFIG: {'MyTool': {'log_level': 'DEBUG', 'iterations': 3}, 'AdvancedComponent': {'infile': 'bork.txt'}}\n",
      "2016-06-28 18:25:11 : INFO [MyTool start] Performing 3 iterations...\n",
      "2016-06-28 18:25:11 : INFO [MyTool start] ITERATION 0\n",
      "2016-06-28 18:25:11 : DEBUG [MyTool.MyComponent do_thing] Did thing\n",
      "2016-06-28 18:25:11 : DEBUG [MyTool.SecondaryMyComponent do_thing] Did thing\n",
      "2016-06-28 18:25:12 : INFO [MyTool start] ITERATION 1\n",
      "2016-06-28 18:25:12 : DEBUG [MyTool.MyComponent do_thing] Did thing\n",
      "2016-06-28 18:25:12 : DEBUG [MyTool.SecondaryMyComponent do_thing] Did thing\n",
      "2016-06-28 18:25:12 : INFO [MyTool start] ITERATION 2\n",
      "2016-06-28 18:25:12 : DEBUG [MyTool.MyComponent do_thing] Did thing\n",
      "2016-06-28 18:25:12 : DEBUG [MyTool.SecondaryMyComponent do_thing] Did thing\n",
      "2016-06-28 18:25:13 : WARNING [MyTool finish] Shutting down.\n"
     ]
    }
   ],
   "source": [
    "tool.run(argv=['--log_level','DEBUG','--infile','bork.txt'])"
   ]
  },
  {
   "cell_type": "markdown",
   "metadata": {},
   "source": [
    "you can also set parameters directly in the class, rather than using the argument/configfile parser:"
   ]
  },
  {
   "cell_type": "code",
   "execution_count": 8,
   "metadata": {
    "collapsed": false
   },
   "outputs": [
    {
     "name": "stderr",
     "output_type": "stream",
     "text": [
      "2016-06-28 18:25:15 : WARNING [MyTool finish] Shutting down.\n"
     ]
    }
   ],
   "source": [
    "tool.iterations = 1\n",
    "tool.log_level = 0\n",
    "tool.run('')"
   ]
  },
  {
   "cell_type": "markdown",
   "metadata": {},
   "source": [
    "see what happens when a value is set that is not of the correct type:"
   ]
  },
  {
   "cell_type": "code",
   "execution_count": 9,
   "metadata": {
    "collapsed": false
   },
   "outputs": [
    {
     "name": "stdout",
     "output_type": "stream",
     "text": [
      "bad value: The 'iterations' trait of a MyTool instance must be an int, but a value of 'badval' <class 'str'> was specified.\n"
     ]
    }
   ],
   "source": [
    "try:\n",
    "    tool.iterations = \"badval\"\n",
    "except TraitError as E:\n",
    "    print(\"bad value:\",E)"
   ]
  },
  {
   "cell_type": "markdown",
   "metadata": {},
   "source": [
    "Example of what happens when you change a parameter that is being \"observed\" in a class. It's handler is called:"
   ]
  },
  {
   "cell_type": "code",
   "execution_count": 10,
   "metadata": {
    "collapsed": false
   },
   "outputs": [
    {
     "name": "stderr",
     "output_type": "stream",
     "text": [
      "2016-06-28 18:25:20 : WARNING [MyTool.AdvancedComponent on_outfile_changed] Outfile was changed to '{'new': 'Another.txt', 'name': 'outfile', 'old': '', 'type': 'change', 'owner': <__main__.AdvancedComponent object at 0x1040844e0>}'\n"
     ]
    }
   ],
   "source": [
    "tool.advanced.outfile = \"Another.txt\""
   ]
  },
  {
   "cell_type": "markdown",
   "metadata": {},
   "source": [
    "we see that the handler for `outfile` was called, and it receive a change dict that shows the old and new values."
   ]
  },
  {
   "cell_type": "markdown",
   "metadata": {},
   "source": [
    "create a tool using a config file:"
   ]
  },
  {
   "cell_type": "code",
   "execution_count": 11,
   "metadata": {
    "collapsed": false
   },
   "outputs": [
    {
     "name": "stdout",
     "output_type": "stream",
     "text": [
      "{\r\n",
      "    \"MyTool\": {\"log_level\":\"DEBUG\"},\r\n",
      "    \"AdvancedComponent\": {\"infile\": \"something.txt\"}\r\n",
      "}\r\n"
     ]
    }
   ],
   "source": [
    "!cat Tools.json"
   ]
  },
  {
   "cell_type": "code",
   "execution_count": 12,
   "metadata": {
    "collapsed": false
   },
   "outputs": [],
   "source": [
    "tool2 = MyTool()"
   ]
  },
  {
   "cell_type": "code",
   "execution_count": 13,
   "metadata": {
    "collapsed": false
   },
   "outputs": [
    {
     "name": "stderr",
     "output_type": "stream",
     "text": [
      " WARNING [MyTool]: Unrecognized JSON config file version, assuming version 1\n",
      "    INFO [MyTool]: version 0.0.dev663 [release=False] [githash=aae0d5150c2c8bd7957cbdf4f4b05cb74af506a7]\n",
      "    INFO [MyTool]: Starting: mytool\n",
      "   DEBUG [MyTool]: CONFIG: {'MyTool': {'log_level': 'DEBUG', 'config_file': 'Tools.json'}, 'AdvancedComponent': {'infile': 'something.txt'}}\n",
      "    INFO [MyTool]: Performing 5 iterations...\n",
      "    INFO [MyTool]: ITERATION 0\n",
      "   DEBUG [MyTool.MyComponent]: Did thing\n",
      "   DEBUG [MyTool.SecondaryMyComponent]: Did thing\n",
      "    INFO [MyTool]: ITERATION 1\n",
      "   DEBUG [MyTool.MyComponent]: Did thing\n",
      "   DEBUG [MyTool.SecondaryMyComponent]: Did thing\n",
      "    INFO [MyTool]: ITERATION 2\n",
      "   DEBUG [MyTool.MyComponent]: Did thing\n",
      "   DEBUG [MyTool.SecondaryMyComponent]: Did thing\n",
      "    INFO [MyTool]: ITERATION 3\n",
      "   DEBUG [MyTool.MyComponent]: Did thing\n",
      "   DEBUG [MyTool.SecondaryMyComponent]: Did thing\n",
      "    INFO [MyTool]: ITERATION 4\n",
      "   DEBUG [MyTool.MyComponent]: Did thing\n",
      "   DEBUG [MyTool.SecondaryMyComponent]: Did thing\n",
      " WARNING [MyTool]: Shutting down.\n"
     ]
    }
   ],
   "source": [
    "tool2.run(argv=['--config','Tools.json'])"
   ]
  },
  {
   "cell_type": "code",
   "execution_count": 14,
   "metadata": {
    "collapsed": false
   },
   "outputs": [
    {
     "name": "stdout",
     "output_type": "stream",
     "text": [
      "something.txt\n"
     ]
    }
   ],
   "source": [
    "print(tool2.advanced.infile)"
   ]
  },
  {
   "cell_type": "code",
   "execution_count": 15,
   "metadata": {
    "collapsed": false
   },
   "outputs": [
    {
     "name": "stdout",
     "output_type": "stream",
     "text": [
      "{'MyTool': {'log_level': 'DEBUG', 'config_file': 'Tools.json'}, 'AdvancedComponent': {'infile': 'something.txt'}}\n"
     ]
    }
   ],
   "source": [
    "print(tool2.config)"
   ]
  },
  {
   "cell_type": "code",
   "execution_count": 16,
   "metadata": {
    "collapsed": false
   },
   "outputs": [
    {
     "ename": "AttributeError",
     "evalue": "'MyTool' object has no attribute 'is_initialized'",
     "output_type": "error",
     "traceback": [
      "\u001b[0;31m---------------------------------------------------------------------------\u001b[0m",
      "\u001b[0;31mAttributeError\u001b[0m                            Traceback (most recent call last)",
      "\u001b[0;32m<ipython-input-16-6800231cf367>\u001b[0m in \u001b[0;36m<module>\u001b[0;34m()\u001b[0m\n\u001b[1;32m      1\u001b[0m \u001b[0mtool2\u001b[0m\u001b[0;34m.\u001b[0m\u001b[0minitialized\u001b[0m\u001b[0;34m(\u001b[0m\u001b[0;34m)\u001b[0m\u001b[0;34m\u001b[0m\u001b[0m\n\u001b[0;32m----> 2\u001b[0;31m \u001b[0mtool2\u001b[0m\u001b[0;34m.\u001b[0m\u001b[0mis_initialized\u001b[0m\u001b[0;34m\u001b[0m\u001b[0m\n\u001b[0m",
      "\u001b[0;31mAttributeError\u001b[0m: 'MyTool' object has no attribute 'is_initialized'"
     ]
    }
   ],
   "source": [
    "tool2.initialized()\n",
    "tool2.is_initialized"
   ]
  },
  {
   "cell_type": "code",
   "execution_count": 17,
   "metadata": {
    "collapsed": true
   },
   "outputs": [],
   "source": [
    "tool3 = MyTool()"
   ]
  },
  {
   "cell_type": "code",
   "execution_count": 18,
   "metadata": {
    "collapsed": false
   },
   "outputs": [
    {
     "ename": "AttributeError",
     "evalue": "'MyTool' object has no attribute 'is_initialized'",
     "output_type": "error",
     "traceback": [
      "\u001b[0;31m---------------------------------------------------------------------------\u001b[0m",
      "\u001b[0;31mAttributeError\u001b[0m                            Traceback (most recent call last)",
      "\u001b[0;32m<ipython-input-18-35093bc7cc90>\u001b[0m in \u001b[0;36m<module>\u001b[0;34m()\u001b[0m\n\u001b[0;32m----> 1\u001b[0;31m \u001b[0mtool3\u001b[0m\u001b[0;34m.\u001b[0m\u001b[0mis_initialized\u001b[0m\u001b[0;34m\u001b[0m\u001b[0m\n\u001b[0m",
      "\u001b[0;31mAttributeError\u001b[0m: 'MyTool' object has no attribute 'is_initialized'"
     ]
    }
   ],
   "source": [
    "tool3.is_initialized"
   ]
  },
  {
   "cell_type": "code",
   "execution_count": null,
   "metadata": {
    "collapsed": true
   },
   "outputs": [],
   "source": []
  }
 ],
 "metadata": {
  "kernelspec": {
   "display_name": "Python 3",
   "language": "python",
   "name": "python3"
  },
  "language_info": {
   "codemirror_mode": {
    "name": "ipython",
    "version": 3
   },
   "file_extension": ".py",
   "mimetype": "text/x-python",
   "name": "python",
   "nbconvert_exporter": "python",
   "pygments_lexer": "ipython3",
   "version": "3.5.1"
  }
 },
 "nbformat": 4,
 "nbformat_minor": 0
}
