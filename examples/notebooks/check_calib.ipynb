{
 "cells": [
  {
   "cell_type": "markdown",
   "metadata": {},
   "source": [
    "## Test if the calibration is doing what I expect\n",
    "\n",
    "* check that the pedestals are reasonable, by making ped distributions from pixels outside the shower"
   ]
  },
  {
   "cell_type": "code",
   "execution_count": 23,
   "metadata": {
    "collapsed": true
   },
   "outputs": [],
   "source": [
    "from ctapipe.io.hessio import hessio_event_source\n",
    "from ctapipe.utils import datasets\n",
    "from ctapipe.calib import CameraCalibrator\n",
    "from ctapipe.image import tailcuts_clean, dilate\n",
    "from ctapipe.visualization import CameraDisplay\n",
    "from ctapipe.instrument import CameraGeometry\n",
    "import matplotlib.pyplot as plt\n",
    "import numpy as np\n",
    "from tqdm import tqdm_notebook\n",
    "%matplotlib inline"
   ]
  },
  {
   "cell_type": "code",
   "execution_count": 9,
   "metadata": {},
   "outputs": [],
   "source": [
    "cal = CameraCalibrator(None,None)"
   ]
  },
  {
   "cell_type": "code",
   "execution_count": 22,
   "metadata": {},
   "outputs": [],
   "source": [
    "hists = {}\n",
    "\n",
    "def process_pedestal(event, output=False):\n",
    "    global hists\n",
    "\n",
    "    for tel in event.dl0.tels_with_data:\n",
    "        geom = CameraGeometry.guess(*event.inst.pixel_pos[tel], event.inst.optical_foclen[tel])\n",
    "        im = event.dl1.tel[tel].image[0]\n",
    "\n",
    "        # select pixels that are not signal and calculate means and std of them (they should be pedestals):\n",
    "        mask = tailcuts_clean(geom, im, picture_thresh=14, boundary_thresh=7)\n",
    "        mask = dilate(geom, mask)\n",
    "\n",
    "        if output:\n",
    "            print(\"evt:{:10d} tel: {:03d}/{:10.10s} mean: {:5.3f} std: {:5.3f}\"\\\n",
    "                  .format(event.dl0.event_id, tel, geom.cam_id, \n",
    "                          im[~mask].mean(), im[~mask].std()))\n",
    "        \n",
    "        hist, ed = np.histogram(im[~mask], bins=80)\n",
    "\n",
    "        if geom.cam_id in hists:\n",
    "            hists[geom.cam_id][0] += hist\n",
    "        else:\n",
    "            hists[geom.cam_id] = [hist,ed]\n"
   ]
  },
  {
   "cell_type": "code",
   "execution_count": 26,
   "metadata": {},
   "outputs": [
    {
     "data": {
      "application/vnd.jupyter.widget-view+json": {
       "model_id": "ddcd10c694aa436f87df97c8d68de963"
      }
     },
     "metadata": {},
     "output_type": "display_data"
    },
    {
     "name": "stdout",
     "output_type": "stream",
     "text": [
      "\n"
     ]
    }
   ],
   "source": [
    "hists = {} \n",
    "source = hessio_event_source(datasets.get_dataset('gamma_test_large.simtel.gz'))\n",
    "\n",
    "for event in tqdm_notebook(source):\n",
    "    cal.calibrate(event)\n",
    "    process_pedestal(event)"
   ]
  },
  {
   "cell_type": "code",
   "execution_count": 30,
   "metadata": {},
   "outputs": [
    {
     "data": {
      "text/plain": [
       "<matplotlib.text.Text at 0x21c4dc390>"
      ]
     },
     "execution_count": 30,
     "metadata": {},
     "output_type": "execute_result"
    },
    {
     "data": {
      "image/png": "[encoded data removed]",
      "text/plain": [
       "<matplotlib.figure.Figure at 0x21c48dc18>"
      ]
     },
     "metadata": {},
     "output_type": "display_data"
    }
   ],
   "source": [
    "plt.figure(figsize=(10,5))\n",
    "for cam in hists:\n",
    "    plt.plot(hists[cam][1][1:], hists[cam][0], label=cam, ls='steps')\n",
    "plt.legend()\n",
    "plt.title(\"Pedestal Distributions\")"
   ]
  },
  {
   "cell_type": "code",
   "execution_count": null,
   "metadata": {
    "collapsed": true
   },
   "outputs": [],
   "source": []
  }
 ],
 "metadata": {
  "kernelspec": {
   "display_name": "Python 3",
   "language": "python",
   "name": "python3"
  },
  "language_info": {
   "codemirror_mode": {
    "name": "ipython",
    "version": 3
   },
   "file_extension": ".py",
   "mimetype": "text/x-python",
   "name": "python",
   "nbconvert_exporter": "python",
   "pygments_lexer": "ipython3",
   "version": "3.6.1"
  }
 },
 "nbformat": 4,
 "nbformat_minor": 2
}
