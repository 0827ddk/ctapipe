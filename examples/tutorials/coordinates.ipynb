{
 "cells": [
  {
   "cell_type": "markdown",
   "metadata": {},
   "source": [
    "# Coordinate Conversion in ctapipe"
   ]
  },
  {
   "cell_type": "markdown",
   "metadata": {},
   "source": [
    "As conversion between different coordinate systems is pretty much required before the event reconstruction can take place (as reconstruction typically takes place in a common reference system). I therefore took a relatively quick first pass at the kind of system we may want to use in the final implementation. The code is based on the astropy coordinates code:\n",
    "http://docs.astropy.org/en/stable/coordinates/\n",
    "\n",
    "The astropy scheme allows us define a number of coordinate frames and the tranformations between any 2 frames, the user then simply calls the transform to function and the astropy finds the route from one system to the next.\n",
    "\n",
    "The tranformation code is based on:\n",
    "- Konrad's read_hess code\n",
    "- The H.E.S.S. software\n",
    "- A small amount of independent thought"
   ]
  },
  {
   "cell_type": "code",
   "execution_count": 1,
   "metadata": {
    "collapsed": true
   },
   "outputs": [],
   "source": [
    "from ctapipe.coordinates import *\n",
    "import numpy as np\n",
    "import astropy.units as u"
   ]
  },
  {
   "cell_type": "markdown",
   "metadata": {},
   "source": [
    "## Angular Systems\n",
    "Our ultimate aim for direction reconstruction is to be able to convert from the XY position of pixels in the camera focal plane, to a shared nominal angular system for all telescopes in the array. This system is where event reconstruction can take place, then the reconstructed position can be further converted into an alt-az system (which can further be converted into any astronomical system).\n",
    "\n",
    "In order to do this I created 3 coordinate reference frames.\n",
    "\n",
    "### Camera Frame\n",
    "Physical system describing the position of pixels within the camera focal plane, defined in distance units.\n",
    "### Telescope Frame\n",
    "Angular system decribing the XY offset of objects from the pointing direction of the instrument (assumed to be 0,0 in both camera and telescope frames). Defined in angular units.\n",
    "### Nominal Frame\n",
    "Angular system describing the XY offset of objects from the nomial array pointing direction (assumed to be 0,0 in this frame). Defined in angular units.\n",
    "\n",
    "First lets take a look at camera/angular systems. First create a numpy array of x-y positions (equivelent of creating a camera pixel)."
   ]
  },
  {
   "cell_type": "code",
   "execution_count": 2,
   "metadata": {
    "collapsed": true
   },
   "outputs": [],
   "source": [
    " pix = [1,2,0] #z positions set to zero (as in most cameras)"
   ]
  },
  {
   "cell_type": "markdown",
   "metadata": {},
   "source": [
    "Then we pass this array to CameraFrame object"
   ]
  },
  {
   "cell_type": "code",
   "execution_count": 3,
   "metadata": {
    "collapsed": false
   },
   "outputs": [],
   "source": [
    "camera_coord = CameraFrame(pix*u.m) # has to be in distance units"
   ]
  },
  {
   "cell_type": "markdown",
   "metadata": {},
   "source": [
    "We then can directly convert this to the nominal telescope system. Need to know telescope focal length and camera rotation (if any)."
   ]
  },
  {
   "cell_type": "code",
   "execution_count": 4,
   "metadata": {
    "collapsed": false
   },
   "outputs": [
    {
     "name": "stdout",
     "output_type": "stream",
     "text": [
      "Telescope Coordinate <TelescopeFrame Coordinate (focal_length=15.0 m, rotation=0.0 deg, pointing_direction=[<Quantity 70.0 deg>, <Quantity 180.0 deg>]): (x, y, z) in rad\n",
      "    (0.06666667, 0.13333333, 0.0)>\n"
     ]
    }
   ],
   "source": [
    "telescope_coord = camera_coord.transform_to(TelescopeFrame(focal_length = 15*u.m,rotation=0*u.deg,\n",
    "                                                           pointing_direction = [70*u.deg,180*u.deg])) \n",
    "# pointing direction should maybe be changed to use astropy style AltAz object\n",
    "\n",
    "print(\"Telescope Coordinate\",telescope_coord)"
   ]
  },
  {
   "cell_type": "code",
   "execution_count": 5,
   "metadata": {
    "collapsed": false
   },
   "outputs": [
    {
     "name": "stdout",
     "output_type": "stream",
     "text": [
      "X coordinate 0.06666666666666667 rad\n"
     ]
    }
   ],
   "source": [
    "print (\"X coordinate\",telescope_coord.x)"
   ]
  },
  {
   "cell_type": "markdown",
   "metadata": {},
   "source": [
    "From Telescope system we can them then convert to array nominal pointing system"
   ]
  },
  {
   "cell_type": "code",
   "execution_count": 6,
   "metadata": {
    "collapsed": false
   },
   "outputs": [
    {
     "name": "stdout",
     "output_type": "stream",
     "text": [
      "Nominal Coordinate <NominalFrame Coordinate (array_direction=[<Quantity 70.0 deg>, <Quantity 180.0 deg>], pointing_direction=None, rotation=0.0 deg, focal_length=None): (x, y, z) in rad\n",
      "    (0.06666667, 0.13333333, 0.0)>\n"
     ]
    }
   ],
   "source": [
    "nominal_coord = telescope_coord.transform_to(NominalFrame(array_direction = [70*u.deg,180*u.deg]))\n",
    "print (\"Nominal Coordinate\",nominal_coord)"
   ]
  },
  {
   "cell_type": "code",
   "execution_count": 7,
   "metadata": {
    "collapsed": false
   },
   "outputs": [
    {
     "name": "stdout",
     "output_type": "stream",
     "text": [
      "Nominal Coordinate <NominalFrame Coordinate (array_direction=[<Quantity 71.0 deg>, <Quantity 180.0 deg>], pointing_direction=None, rotation=0.0 deg, focal_length=None): (x, y, z) in rad\n",
      "    (0.0491544, 0.13319864, 0.0)>\n"
     ]
    }
   ],
   "source": [
    "nominal_coord = telescope_coord.transform_to(NominalFrame(array_direction = [71*u.deg,180*u.deg]))\n",
    "print (\"Nominal Coordinate\",nominal_coord)"
   ]
  },
  {
   "cell_type": "markdown",
   "metadata": {},
   "source": [
    "Or if we are feeling clever we can bypass the telescope system entirely."
   ]
  },
  {
   "cell_type": "code",
   "execution_count": 8,
   "metadata": {
    "collapsed": false
   },
   "outputs": [
    {
     "name": "stdout",
     "output_type": "stream",
     "text": [
      "Nominal Coordinate <NominalFrame Coordinate (array_direction=[<Quantity 71.0 deg>, <Quantity 180.0 deg>], pointing_direction=[<Quantity 70.0 deg>, <Quantity 180.0 deg>], rotation=0.0 deg, focal_length=15.0 m): (x, y, z) in rad\n",
      "    (0.0491544, 0.13319864, 0.0)>\n"
     ]
    }
   ],
   "source": [
    "nominal_coord = camera_coord.transform_to(NominalFrame(focal_length = 15*u.m,rotation=0*u.deg,\n",
    "                                                        pointing_direction = [70*u.deg,180*u.deg],\n",
    "                                                        array_direction = [71*u.deg,180*u.deg]))\n",
    "print (\"Nominal Coordinate\",nominal_coord)"
   ]
  },
  {
   "cell_type": "markdown",
   "metadata": {},
   "source": [
    "Normally we would then want to go to the alt-az system. This ten puts us in the world of astropy coordinates and we can transform to any astronomical system, although in the pipeline this shouldn't be needed often."
   ]
  },
  {
   "cell_type": "code",
   "execution_count": 9,
   "metadata": {
    "collapsed": false
   },
   "outputs": [
    {
     "name": "stdout",
     "output_type": "stream",
     "text": [
      "<AltAz Coordinate (obstime=None, location=None, pressure=0.0 hPa, temperature=0.0 deg_C, relative_humidity=0, obswl=1.0 micron): (az, alt) in deg\n",
      "    (205.51316175, 72.17100816)>\n"
     ]
    }
   ],
   "source": [
    "from astropy.coordinates import AltAz\n",
    "altaz_coord = nominal_coord.transform_to(AltAz)\n",
    "print (altaz_coord)"
   ]
  },
  {
   "cell_type": "markdown",
   "metadata": {},
   "source": [
    "## Ground System\n",
    "As well as angular systems we also often need to work in a ground based system for energy reconstruction. Only to systems are neccesary.\n",
    "\n",
    "Ground system\n",
    "- True XYZ coordinates on the ground\n",
    "\n",
    "Tilted ground system\n",
    "- XY system, projection of the ground system into an inclined plane\n",
    "- Plane could be the telescope pointing direction (often used in HESS for event reconstruction)\n",
    "- Alteratively could be the reconstructed shower direction (or anything else)"
   ]
  },
  {
   "cell_type": "code",
   "execution_count": 10,
   "metadata": {
    "collapsed": false
   },
   "outputs": [
    {
     "name": "stdout",
     "output_type": "stream",
     "text": [
      "<GroundFrame Coordinate (pointing_direction=None): (x, y, z) in m\n",
      "    (100.0, 0.0, 0.0)>\n"
     ]
    }
   ],
   "source": [
    "grd_coord = GroundFrame(x=100*u.m, y=0*u.m, z=0*u.m) # GroundFrame always defined in distance units\n",
    "print (grd_coord)"
   ]
  },
  {
   "cell_type": "code",
   "execution_count": 11,
   "metadata": {
    "collapsed": false
   },
   "outputs": [
    {
     "name": "stdout",
     "output_type": "stream",
     "text": [
      "<TiltedGroundFrame Coordinate (pointing_direction=[<Quantity 90.0 deg>, <Quantity 180.0 deg>]): (x, y, z) in m\n",
      "    (-100.0, 0.0, 0.0)>\n"
     ]
    }
   ],
   "source": [
    "tilt_coord = grd_coord.transform_to(TiltedGroundFrame(pointing_direction = [90*u.deg,180*u.deg]))\n",
    "print (tilt_coord)"
   ]
  },
  {
   "cell_type": "code",
   "execution_count": 12,
   "metadata": {
    "collapsed": false
   },
   "outputs": [
    {
     "name": "stdout",
     "output_type": "stream",
     "text": [
      "<TiltedGroundFrame Coordinate (pointing_direction=[<Quantity 70.0 deg>, <Quantity 0.0 deg>]): (x, y, z) in m\n",
      "    (93.96926208, 0.0, 0.0)>\n"
     ]
    }
   ],
   "source": [
    "tilt_coord = grd_coord.transform_to(TiltedGroundFrame(pointing_direction = [70*u.deg,0*u.deg]))\n",
    "print (tilt_coord)"
   ]
  },
  {
   "cell_type": "code",
   "execution_count": 13,
   "metadata": {
    "collapsed": false
   },
   "outputs": [
    {
     "name": "stdout",
     "output_type": "stream",
     "text": [
      "<GroundFrame Coordinate (pointing_direction=None): (x, y, z) in m\n",
      "    (88.30222216, 0.0, -32.13938048)>\n"
     ]
    }
   ],
   "source": [
    "grd_coord = tilt_coord.transform_to(GroundFrame)\n",
    "print (grd_coord)"
   ]
  },
  {
   "cell_type": "markdown",
   "metadata": {},
   "source": [
    "Hmm so we don't get back to ouor original value. This is not unexpected due to the nature of the tilted system, this is now giving us the XYZ position of the point within the tilted frame, but in a ground based reference system (not really useful). More common usage would be to project the point in the tilted system back to where it would lie in the ground."
   ]
  },
  {
   "cell_type": "code",
   "execution_count": 14,
   "metadata": {
    "collapsed": false
   },
   "outputs": [
    {
     "name": "stdout",
     "output_type": "stream",
     "text": [
      "<GroundFrame Coordinate (pointing_direction=None): (x, y, z) in m\n",
      "    (100.0, 0.0, 0.0)>\n"
     ]
    }
   ],
   "source": [
    "print(project_to_ground(tilt_coord))"
   ]
  },
  {
   "cell_type": "markdown",
   "metadata": {},
   "source": [
    "Transforming objects from tilted to ground frames is not neccessarily something we want to do very often, but we should define exactly how we want these convertions to behave.\n",
    "\n",
    "## Performance\n",
    "\n",
    "Of course this is the kind of function we call alot, so we should be careful of the performance."
   ]
  },
  {
   "cell_type": "code",
   "execution_count": 15,
   "metadata": {
    "collapsed": false
   },
   "outputs": [
    {
     "name": "stdout",
     "output_type": "stream",
     "text": [
      "1000 loops, best of 3: 1.49 ms per loop\n"
     ]
    }
   ],
   "source": [
    "%%timeit\n",
    "telescope_coord = camera_coord.transform_to(TelescopeFrame(focal_length = 15*u.m,rotation=0*u.deg,\n",
    "                                                           pointing_direction = [70*u.deg,180*u.deg])) \n"
   ]
  },
  {
   "cell_type": "code",
   "execution_count": 16,
   "metadata": {
    "collapsed": false
   },
   "outputs": [
    {
     "name": "stdout",
     "output_type": "stream",
     "text": [
      "100 loops, best of 3: 3.28 ms per loop\n"
     ]
    }
   ],
   "source": [
    "%%timeit\n",
    "nominal_coord = camera_coord.transform_to(NominalFrame(focal_length = 15*u.m,rotation=0*u.deg,\n",
    "                                                        pointing_direction = [70*u.deg,180*u.deg],\n",
    "                                                        array_direction = [71*u.deg,180*u.deg]))"
   ]
  },
  {
   "cell_type": "code",
   "execution_count": 17,
   "metadata": {
    "collapsed": false
   },
   "outputs": [
    {
     "name": "stdout",
     "output_type": "stream",
     "text": [
      "1000 loops, best of 3: 1.59 ms per loop\n"
     ]
    }
   ],
   "source": [
    "%%timeit\n",
    "tilt_coord = grd_coord.transform_to(TiltedGroundFrame(pointing_direction = [70*u.deg,0*u.deg]))"
   ]
  },
  {
   "cell_type": "markdown",
   "metadata": {},
   "source": [
    "Currently the code is taking a few milliseconds to execute, but the actual execution time of the transformation within only takes a few microseconds, as it is essentially all just numpy operations, so most time must be taken up in checks and the determination of the \"route\" from one frame to another.\n",
    "\n",
    "Millisecond execution time is likely not fast enough, although we can at least reduce the impact of these overheads by being a bit cleverer about how we perform the conversions. For example we can convert a whole camera at once."
   ]
  },
  {
   "cell_type": "code",
   "execution_count": 18,
   "metadata": {
    "collapsed": false
   },
   "outputs": [
    {
     "name": "stdout",
     "output_type": "stream",
     "text": [
      "<CameraFrame Coordinate: (x, y, z) in m\n",
      "    [(1.0, 2.0, 0.0), (1.0, 2.0, 0.0), (1.0, 2.0, 0.0), ...,\n",
      "     (1.0, 2.0, 0.0), (1.0, 2.0, 0.0), (1.0, 2.0, 0.0)]>\n"
     ]
    }
   ],
   "source": [
    "x = np.ones(2048)\n",
    "y = np.ones(2048)*2\n",
    "z = np.zeros(2048)\n",
    "\n",
    "whole_camera = CameraFrame(x=x*u.m,y=y*u.m,z=z*u.m)\n",
    "print (whole_camera)"
   ]
  },
  {
   "cell_type": "code",
   "execution_count": 19,
   "metadata": {
    "collapsed": false
   },
   "outputs": [
    {
     "name": "stdout",
     "output_type": "stream",
     "text": [
      "100 loops, best of 3: 4.55 ms per loop\n"
     ]
    }
   ],
   "source": [
    "%%timeit\n",
    "nominal_coord = whole_camera.transform_to(NominalFrame(focal_length = 15*u.m,rotation=0*u.deg,\n",
    "                                                        pointing_direction = [70*u.deg,180*u.deg],\n",
    "                                                        array_direction = [71*u.deg,180*u.deg]))"
   ]
  },
  {
   "cell_type": "code",
   "execution_count": 20,
   "metadata": {
    "collapsed": false
   },
   "outputs": [
    {
     "name": "stdout",
     "output_type": "stream",
     "text": [
      "<NominalFrame Coordinate (array_direction=[<Quantity 71.0 deg>, <Quantity 180.0 deg>], pointing_direction=[<Quantity 70.0 deg>, <Quantity 180.0 deg>], rotation=0.0 deg, focal_length=15.0 m): (x, y, z) in rad\n",
      "    (0.0491544, 0.13319864, 0.0)>\n"
     ]
    }
   ],
   "source": [
    "print (nominal_coord)"
   ]
  },
  {
   "cell_type": "markdown",
   "metadata": {},
   "source": [
    "Or even we could convert a whole event at once (all telescopes in one go)"
   ]
  },
  {
   "cell_type": "code",
   "execution_count": 21,
   "metadata": {
    "collapsed": false
   },
   "outputs": [
    {
     "name": "stdout",
     "output_type": "stream",
     "text": [
      "<CameraFrame Coordinate: (x, y, z) in m\n",
      "    [[(1.0, 2.0, 0.0), (1.0, 2.0, 0.0), (1.0, 2.0, 0.0), ...,\n",
      "      (1.0, 2.0, 0.0), (1.0, 2.0, 0.0), (1.0, 2.0, 0.0)],\n",
      "     [(1.0, 2.0, 0.0), (1.0, 2.0, 0.0), (1.0, 2.0, 0.0), ...,\n",
      "      (1.0, 2.0, 0.0), (1.0, 2.0, 0.0), (1.0, 2.0, 0.0)],\n",
      "     [(1.0, 2.0, 0.0), (1.0, 2.0, 0.0), (1.0, 2.0, 0.0), ...,\n",
      "      (1.0, 2.0, 0.0), (1.0, 2.0, 0.0), (1.0, 2.0, 0.0)],\n",
      "     ..., \n",
      "     [(1.0, 2.0, 0.0), (1.0, 2.0, 0.0), (1.0, 2.0, 0.0), ...,\n",
      "      (1.0, 2.0, 0.0), (1.0, 2.0, 0.0), (1.0, 2.0, 0.0)],\n",
      "     [(1.0, 2.0, 0.0), (1.0, 2.0, 0.0), (1.0, 2.0, 0.0), ...,\n",
      "      (1.0, 2.0, 0.0), (1.0, 2.0, 0.0), (1.0, 2.0, 0.0)],\n",
      "     [(1.0, 2.0, 0.0), (1.0, 2.0, 0.0), (1.0, 2.0, 0.0), ...,\n",
      "      (1.0, 2.0, 0.0), (1.0, 2.0, 0.0), (1.0, 2.0, 0.0)]]>\n"
     ]
    }
   ],
   "source": [
    "x = np.ones([2048,10]) # For example 10 telescopes each with 2048 pixels\n",
    "y = np.ones([2048,10])*2\n",
    "z = np.zeros([2048,10])\n",
    "\n",
    "whole_event = CameraFrame(x=x*u.m,y=y*u.m,z=z*u.m)\n",
    "print (whole_event)"
   ]
  },
  {
   "cell_type": "code",
   "execution_count": 22,
   "metadata": {
    "collapsed": false
   },
   "outputs": [
    {
     "name": "stdout",
     "output_type": "stream",
     "text": [
      "100 loops, best of 3: 11 ms per loop\n"
     ]
    }
   ],
   "source": [
    "%%timeit\n",
    "nominal_coord = whole_event.transform_to(NominalFrame(focal_length = 15*u.m,rotation=0*u.deg,\n",
    "                                                        pointing_direction = [70*u.deg,180*u.deg],\n",
    "                                                        array_direction = [71*u.deg,180*u.deg]))"
   ]
  },
  {
   "cell_type": "code",
   "execution_count": 23,
   "metadata": {
    "collapsed": false
   },
   "outputs": [
    {
     "name": "stdout",
     "output_type": "stream",
     "text": [
      "<NominalFrame Coordinate (array_direction=[<Quantity 71.0 deg>, <Quantity 180.0 deg>], pointing_direction=[<Quantity 70.0 deg>, <Quantity 180.0 deg>], rotation=0.0 deg, focal_length=15.0 m): (x, y, z) in rad\n",
      "    (0.0491544, 0.13319864, 0.0)>\n"
     ]
    }
   ],
   "source": [
    "print (nominal_coord)"
   ]
  },
  {
   "cell_type": "markdown",
   "metadata": {},
   "source": [
    "Now we are back in the range of being dominated by the actual conversion execution. But of course CTA will be made up of different telescope types with different focal lengths and potentially even looking at different places."
   ]
  },
  {
   "cell_type": "code",
   "execution_count": 24,
   "metadata": {
    "collapsed": false
   },
   "outputs": [
    {
     "name": "stdout",
     "output_type": "stream",
     "text": [
      "100 loops, best of 3: 11.3 ms per loop\n"
     ]
    }
   ],
   "source": [
    "%%timeit\n",
    "\n",
    "focal_length = [23,23,23,15,15,15,15,4,4,4] * u.m\n",
    "pointing_direction = [[70.5,71,72,73,69,68,67,66,65,70],\n",
    "                      [180,180,180,180,180,180,180,180,180,180]]*u.deg # probably should switch this to defining pairs\n",
    "nominal_coord_event = whole_event.transform_to(NominalFrame(focal_length = focal_length,rotation=0*u.deg,\n",
    "                                                        pointing_direction = pointing_direction,\n",
    "                                                        array_direction = [71*u.deg,180*u.deg]))\n",
    "\n"
   ]
  },
  {
   "cell_type": "markdown",
   "metadata": {},
   "source": [
    "Certainly the conversion of the full camera (or all important pixels), makes sense but for whole events I'm unsure. The major problem here is the definition of the pixel array length, as this second diminsion of the numpy array cannot be varied. This especially gets more difficult when we are dealing with zero-suppressed data where the pixel list could be any length.\n",
    "\n",
    "One option is to just define ther length of this dimension as the longest value in the pixel lists (or the cameras), but at some point we will have a 25,000 pixel SCT camera and this will get messy.\n",
    "\n",
    "Maybe some python master has a solution to this problem.\n",
    "\n",
    "## To do\n",
    "\n",
    "- Code needs more thorugh check of accuracy, especially when using multi-telescope arrays\n",
    "- Exceptions need to be handled in a more robust way\n",
    "- Speed optimisation, for now this system is probably fast enough. But we may want to optimise performance (could be done by contibuting to astropy) in future or potentially switch to a different system.\n",
    "- Currently nominal systems defined as 3d catesian systems, but would make sense for them to be only 2D\n",
    "- Not certain conversions are correct in the case of large distances between observation positions\n",
    "- Getting the pointing information (and corrections) into the different frames"
   ]
  },
  {
   "cell_type": "code",
   "execution_count": null,
   "metadata": {
    "collapsed": false
   },
   "outputs": [],
   "source": [
    "%matplotlib inline \n",
    "\n",
    "import matplotlib.pyplot as plt\n",
    "from numpy import sqrt\n",
    "from numpy import meshgrid\n",
    "from numpy import arange\n",
    "\n",
    "xs = arange(-7.25, 7.25, 0.01)\n",
    "ys = arange(-5, 5, 0.01)\n",
    "x, y = meshgrid(xs, ys)\n",
    "\n",
    "eq1 = ((x/7)**2*sqrt(abs(abs(x)-3)/(abs(x)-3))+(y/3)**2*sqrt(abs(y+3/7*sqrt(33))/(y+3/7*sqrt(33)))-1)\n",
    "eq2 = (abs(x/2)-((3*sqrt(33)-7)/112)*x**2-3+sqrt(1-(abs(abs(x)-2)-1)**2)-y)\n",
    "eq3 = (9*sqrt(abs((abs(x)-1)*(abs(x)-.75))/((1-abs(x))*(abs(x)-.75)))-8*abs(x)-y)\n",
    "eq4 = (3*abs(x)+.75*sqrt(abs((abs(x)-.75)*(abs(x)-.5))/((.75-abs(x))*(abs(x)-.5)))-y)\n",
    "eq5 = (2.25*sqrt(abs((x-.5)*(x+.5))/((.5-x)*(.5+x)))-y)\n",
    "eq6 = (6*sqrt(10)/7+(1.5-.5*abs(x))*sqrt(abs(abs(x)-1)/(abs(x)-1))-(6*sqrt(10)/14)*sqrt(4-(abs(x)-1)**2)-y)\n",
    "\n",
    "#eq1 = ((x/7.0)**2.0*sqrt(abs(abs(x)-3.0)/(abs(x)-3.0))+(y/3.0)**2.0*sqrt(abs(y+3.0/7.0*sqrt(33.0))/(y+3.0/7.0*sqrt(33.0)))-1.0)\n",
    "\n",
    "for f in [eq1,eq2,eq3,eq4,eq5,eq6]:\n",
    "    plt.contour(x, y, f, [0])\n",
    "\n",
    "plt.show()"
   ]
  },
  {
   "cell_type": "code",
   "execution_count": null,
   "metadata": {
    "collapsed": true
   },
   "outputs": [],
   "source": []
  }
 ],
 "metadata": {
  "anaconda-cloud": {},
  "kernelspec": {
   "display_name": "Python [default]",
   "language": "python",
   "name": "python3"
  },
  "language_info": {
   "codemirror_mode": {
    "name": "ipython",
    "version": 3
   },
   "file_extension": ".py",
   "mimetype": "text/x-python",
   "name": "python",
   "nbconvert_exporter": "python",
   "pygments_lexer": "ipython3",
   "version": "3.5.2"
  }
 },
 "nbformat": 4,
 "nbformat_minor": 0
}
