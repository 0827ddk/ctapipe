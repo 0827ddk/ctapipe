{
 "cells": [
  {
   "cell_type": "code",
   "execution_count": 1,
   "metadata": {
    "collapsed": false
   },
   "outputs": [],
   "source": [
    "from ctapipe.instrument import InstrumentDescription as ID\n",
    "from ctapipe.utils.datasets import get_path\n",
    "import matplotlib.pyplot as plt\n",
    "import os\n",
    "%matplotlib inline"
   ]
  },
  {
   "cell_type": "code",
   "execution_count": 2,
   "metadata": {
    "collapsed": true
   },
   "outputs": [],
   "source": [
    "filename1 = get_path('PROD2_telconfig.fits.gz')\n",
    "filename2 = get_path('gamma_test.simtel.gz')\n",
    "filename3 = get_path('CTA-ULTRA6-SCT.cfg')"
   ]
  },
  {
   "cell_type": "markdown",
   "metadata": {},
   "source": [
    "# Loading instrument configuration data from files"
   ]
  },
  {
   "cell_type": "markdown",
   "metadata": {},
   "source": [
    "Load instrument configuration data from 3 different files"
   ]
  },
  {
   "cell_type": "code",
   "execution_count": 3,
   "metadata": {
    "collapsed": false
   },
   "outputs": [
    {
     "name": "stdout",
     "output_type": "stream",
     "text": [
      "Fits file will be opened.\n",
      "Astropy tables have been created.\n"
     ]
    }
   ],
   "source": [
    "tel1,cam1,opt1 = ID.load(filename1) #from the fits file"
   ]
  },
  {
   "cell_type": "code",
   "execution_count": 4,
   "metadata": {
    "collapsed": false
   },
   "outputs": [
    {
     "name": "stdout",
     "output_type": "stream",
     "text": [
      "Hessio file will be opened.\n",
      "Astropy tables have been created.\n",
      "Hessio file has been closed.\n"
     ]
    }
   ],
   "source": [
    "tel2,cam2,opt2 = ID.load(filename2) #from the hessio file"
   ]
  },
  {
   "cell_type": "code",
   "execution_count": 5,
   "metadata": {
    "collapsed": false
   },
   "outputs": [
    {
     "name": "stdout",
     "output_type": "stream",
     "text": [
      "Config file /Users/alisonmitchell/ctasoft/ctapipe/ctapipe-extra/datasets/CTA-ULTRA6-SCT.cfg will be opened.\n",
      "Temporary file  CTA-ULTRA6-SCT_temp.txt  created.\n",
      "Config file has been closed.\n",
      "Temporaryly created file has been closed.\n",
      "Temporaryly created file has been removed.\n",
      "Astropy tables have been created.\n"
     ]
    }
   ],
   "source": [
    "tel3,cam3,opt3 = ID.load(filename3) #from the simtelarray-config file"
   ]
  },
  {
   "cell_type": "markdown",
   "metadata": {},
   "source": [
    "How does the simtelarray-config file look like?"
   ]
  },
  {
   "cell_type": "code",
   "execution_count": 7,
   "metadata": {
    "collapsed": false
   },
   "outputs": [],
   "source": [
    "#more /lustre/fs19/group/cta/users/zornju/anaconda3/ctapipe/ctapipe-extra/datasets/CTA-ULTRA6-SCT.cfg"
   ]
  },
  {
   "cell_type": "markdown",
   "metadata": {},
   "source": [
    "When no filename is given, faked random data is loaded"
   ]
  },
  {
   "cell_type": "code",
   "execution_count": 8,
   "metadata": {
    "collapsed": false
   },
   "outputs": [
    {
     "name": "stdout",
     "output_type": "stream",
     "text": [
      "Faked data will be produced.\n",
      "Astropy tables have been created.\n"
     ]
    }
   ],
   "source": [
    "tel4,cam4,opt4 = ID.load()"
   ]
  },
  {
   "cell_type": "markdown",
   "metadata": {},
   "source": [
    "# Print the name of the tables present in the dictionaries"
   ]
  },
  {
   "cell_type": "code",
   "execution_count": 9,
   "metadata": {
    "collapsed": false
   },
   "outputs": [
    {
     "data": {
      "text/plain": [
       "(dict_keys(['TelescopeTable']), dict_keys(['CameraTable']), dict_keys([]))"
      ]
     },
     "execution_count": 9,
     "metadata": {},
     "output_type": "execute_result"
    }
   ],
   "source": [
    "tel1.keys(),cam1.keys(),opt1.keys() #table names of all dictionaries (telescope, camera, and optics) taken from fits file"
   ]
  },
  {
   "cell_type": "code",
   "execution_count": 10,
   "metadata": {
    "collapsed": false
   },
   "outputs": [
    {
     "data": {
      "text/plain": [
       "dict_keys(['TelescopeTable_VersionFeb2016'])"
      ]
     },
     "execution_count": 10,
     "metadata": {},
     "output_type": "execute_result"
    }
   ],
   "source": [
    "tel2.keys() #names of tables located in the telescope dictionary taken from the hessio file"
   ]
  },
  {
   "cell_type": "code",
   "execution_count": 11,
   "metadata": {
    "collapsed": false
   },
   "outputs": [
    {
     "data": {
      "text/plain": [
       "dict_keys(['CameraTable_VersionFeb2016_TelID110', 'CameraTable_VersionFeb2016_TelID78', 'CameraTable_VersionFeb2016_TelID11', 'CameraTable_VersionFeb2016_TelID54', 'CameraTable_VersionFeb2016_TelID20', 'CameraTable_VersionFeb2016_TelID62', 'CameraTable_VersionFeb2016_TelID49', 'CameraTable_VersionFeb2016_TelID79', 'CameraTable_VersionFeb2016_TelID109', 'CameraTable_VersionFeb2016_TelID45', 'CameraTable_VersionFeb2016_TelID75', 'CameraTable_VersionFeb2016_TelID32', 'CameraTable_VersionFeb2016_TelID83', 'CameraTable_VersionFeb2016_TelID56', 'CameraTable_VersionFeb2016_TelID88', 'CameraTable_VersionFeb2016_TelID61', 'CameraTable_VersionFeb2016_TelID50', 'CameraTable_VersionFeb2016_TelID94', 'CameraTable_VersionFeb2016_TelID82', 'CameraTable_VersionFeb2016_TelID85', 'CameraTable_VersionFeb2016_TelID74', 'CameraTable_VersionFeb2016_TelID98', 'CameraTable_VersionFeb2016_TelID55', 'CameraTable_VersionFeb2016_TelID103', 'CameraTable_VersionFeb2016_TelID73', 'CameraTable_VersionFeb2016_TelID121', 'CameraTable_VersionFeb2016_TelID65', 'CameraTable_VersionFeb2016_TelID15', 'CameraTable_VersionFeb2016_TelID40', 'CameraTable_VersionFeb2016_TelID43', 'CameraTable_VersionFeb2016_TelID116', 'CameraTable_VersionFeb2016_TelID67', 'CameraTable_VersionFeb2016_TelID4', 'CameraTable_VersionFeb2016_TelID1', 'CameraTable_VersionFeb2016_TelID76', 'CameraTable_VersionFeb2016_TelID59', 'CameraTable_VersionFeb2016_TelID47', 'CameraTable_VersionFeb2016_TelID10', 'CameraTable_VersionFeb2016_TelID125', 'CameraTable_VersionFeb2016_TelID96', 'CameraTable_VersionFeb2016_TelID9', 'CameraTable_VersionFeb2016_TelID17', 'CameraTable_VersionFeb2016_TelID122', 'CameraTable_VersionFeb2016_TelID51', 'CameraTable_VersionFeb2016_TelID123', 'CameraTable_VersionFeb2016_TelID64', 'CameraTable_VersionFeb2016_TelID113', 'CameraTable_VersionFeb2016_TelID24', 'CameraTable_VersionFeb2016_TelID95', 'CameraTable_VersionFeb2016_TelID33', 'CameraTable_VersionFeb2016_TelID23', 'CameraTable_VersionFeb2016_TelID48', 'CameraTable_VersionFeb2016_TelID29', 'CameraTable_VersionFeb2016_TelID105', 'CameraTable_VersionFeb2016_TelID53', 'CameraTable_VersionFeb2016_TelID13', 'CameraTable_VersionFeb2016_TelID57', 'CameraTable_VersionFeb2016_TelID99', 'CameraTable_VersionFeb2016_TelID120', 'CameraTable_VersionFeb2016_TelID84', 'CameraTable_VersionFeb2016_TelID21', 'CameraTable_VersionFeb2016_TelID30', 'CameraTable_VersionFeb2016_TelID81', 'CameraTable_VersionFeb2016_TelID2', 'CameraTable_VersionFeb2016_TelID70', 'CameraTable_VersionFeb2016_TelID90', 'CameraTable_VersionFeb2016_TelID104', 'CameraTable_VersionFeb2016_TelID87', 'CameraTable_VersionFeb2016_TelID8', 'CameraTable_VersionFeb2016_TelID72', 'CameraTable_VersionFeb2016_TelID115', 'CameraTable_VersionFeb2016_TelID101', 'CameraTable_VersionFeb2016_TelID34', 'CameraTable_VersionFeb2016_TelID102', 'CameraTable_VersionFeb2016_TelID31', 'CameraTable_VersionFeb2016_TelID80', 'CameraTable_VersionFeb2016_TelID28', 'CameraTable_VersionFeb2016_TelID35', 'CameraTable_VersionFeb2016_TelID89', 'CameraTable_VersionFeb2016_TelID37', 'CameraTable_VersionFeb2016_TelID117', 'CameraTable_VersionFeb2016_TelID42', 'CameraTable_VersionFeb2016_TelID71', 'CameraTable_VersionFeb2016_TelID52', 'CameraTable_VersionFeb2016_TelID36', 'CameraTable_VersionFeb2016_TelID22', 'CameraTable_VersionFeb2016_TelID3', 'CameraTable_VersionFeb2016_TelID19', 'CameraTable_VersionFeb2016_TelID7', 'CameraTable_VersionFeb2016_TelID97', 'CameraTable_VersionFeb2016_TelID92', 'CameraTable_VersionFeb2016_TelID39', 'CameraTable_VersionFeb2016_TelID14', 'CameraTable_VersionFeb2016_TelID114', 'CameraTable_VersionFeb2016_TelID126', 'CameraTable_VersionFeb2016_TelID107', 'CameraTable_VersionFeb2016_TelID58', 'CameraTable_VersionFeb2016_TelID25', 'CameraTable_VersionFeb2016_TelID111', 'CameraTable_VersionFeb2016_TelID5', 'CameraTable_VersionFeb2016_TelID60', 'CameraTable_VersionFeb2016_TelID119', 'CameraTable_VersionFeb2016_TelID26', 'CameraTable_VersionFeb2016_TelID112', 'CameraTable_VersionFeb2016_TelID77', 'CameraTable_VersionFeb2016_TelID108', 'CameraTable_VersionFeb2016_TelID12', 'CameraTable_VersionFeb2016_TelID63', 'CameraTable_VersionFeb2016_TelID46', 'CameraTable_VersionFeb2016_TelID118', 'CameraTable_VersionFeb2016_TelID100', 'CameraTable_VersionFeb2016_TelID66', 'CameraTable_VersionFeb2016_TelID6', 'CameraTable_VersionFeb2016_TelID44', 'CameraTable_VersionFeb2016_TelID86', 'CameraTable_VersionFeb2016_TelID38', 'CameraTable_VersionFeb2016_TelID16', 'CameraTable_VersionFeb2016_TelID41', 'CameraTable_VersionFeb2016_TelID18', 'CameraTable_VersionFeb2016_TelID91', 'CameraTable_VersionFeb2016_TelID93', 'CameraTable_VersionFeb2016_TelID124', 'CameraTable_VersionFeb2016_TelID69', 'CameraTable_VersionFeb2016_TelID27', 'CameraTable_VersionFeb2016_TelID106', 'CameraTable_VersionFeb2016_TelID68'])"
      ]
     },
     "execution_count": 11,
     "metadata": {},
     "output_type": "execute_result"
    }
   ],
   "source": [
    "cam2.keys() #names of tables located in the camera dictionary taken from the hessio file"
   ]
  },
  {
   "cell_type": "code",
   "execution_count": 12,
   "metadata": {
    "collapsed": false
   },
   "outputs": [
    {
     "data": {
      "text/plain": [
       "(dict_keys(['TelescopeTable_CTA-ULTRA6-SCT', 'Tel_DiscriminatorPulseShape', 'Tel_FADCPulseShape']),\n",
       " dict_keys(['Cam_PhotoelectronSpectrum', 'Cam_PhotonDetectionEfficiency', 'CameraTable_CTA-ULTRA6-SCT']),\n",
       " dict_keys(['Opt_MirrorRefelctivity', 'OpticsTable_CTA-ULTRA6-SCT']))"
      ]
     },
     "execution_count": 12,
     "metadata": {},
     "output_type": "execute_result"
    }
   ],
   "source": [
    "tel3.keys(),cam3.keys(),opt3.keys() #table names of all dictionaries (telescope, camera, and optics) taken from simtelarray config file"
   ]
  },
  {
   "cell_type": "code",
   "execution_count": 13,
   "metadata": {
    "collapsed": false
   },
   "outputs": [
    {
     "data": {
      "text/plain": [
       "(dict_keys(['TelescopeTable_VersionFeb2016']),\n",
       " dict_keys(['CameraTable_VersionFeb2016_TelID102', 'CameraTable_VersionFeb2016_TelID117', 'CameraTable_VersionFeb2016_TelID4', 'CameraTable_VersionFeb2016_TelID60', 'CameraTable_VersionFeb2016_TelID34', 'CameraTable_VersionFeb2016_TelID17', 'CameraTable_VersionFeb2016_TelID39', 'CameraTable_VersionFeb2016_TelID22', 'CameraTable_VersionFeb2016_TelID18']),\n",
       " dict_keys(['OpticsTable_VersionFeb2016_TelID60', 'OpticsTable_VersionFeb2016_TelID4', 'OpticsTable_VersionFeb2016_TelID117', 'OpticsTable_VersionFeb2016_TelID34', 'OpticsTable_VersionFeb2016_TelID17', 'OpticsTable_VersionFeb2016_TelID102', 'OpticsTable_VersionFeb2016_TelID18', 'OpticsTable_VersionFeb2016_TelID22', 'OpticsTable_VersionFeb2016_TelID39']))"
      ]
     },
     "execution_count": 13,
     "metadata": {},
     "output_type": "execute_result"
    }
   ],
   "source": [
    "tel4.keys(),cam4.keys(),opt4.keys() #table names of all dictionaries (telescope, camera, and optics) taken from faked data"
   ]
  },
  {
   "cell_type": "markdown",
   "metadata": {},
   "source": [
    "# Accessing table data using the table names"
   ]
  },
  {
   "cell_type": "markdown",
   "metadata": {},
   "source": [
    "Print the table from the telscope dictionary containing the overview of the telescope configuration"
   ]
  },
  {
   "cell_type": "code",
   "execution_count": 14,
   "metadata": {
    "collapsed": false
   },
   "outputs": [
    {
     "data": {
      "text/html": [
       "&lt;Table length=62&gt;\n",
       "<table id=\"table4557629704\" class=\"table-striped table-bordered table-condensed\">\n",
       "<thead><tr><th>L0ID</th><th>TelID</th><th>TelType</th><th>TelX</th><th>TelY</th><th>TelZ</th><th>FL</th><th>FOV</th><th>CameraScaleFactor</th><th>CameraCentreOffset</th><th>CameraRotation</th><th>NPixel</th><th>NPixel_active</th><th>NSamples</th><th>Sample_time_slice</th><th>NGains</th><th>HiLoScale</th><th>HiLoThreshold</th><th>HiLoOffset</th><th>NTubesOFF</th><th>NMirrors</th><th>MirrorArea</th></tr></thead>\n",
       "<thead><tr><th>int64</th><th>int16</th><th>int64</th><th>float32</th><th>float32</th><th>float32</th><th>float32</th><th>float32</th><th>float32</th><th>float32</th><th>float32</th><th>int16</th><th>int16</th><th>int16</th><th>float32</th><th>int16</th><th>float32</th><th>int16</th><th>float32</th><th>int16</th><th>int16</th><th>float32</th></tr></thead>\n",
       "<tr><td>0</td><td>1</td><td>138704810</td><td>-50.0</td><td>50.0</td><td>16.0</td><td>28.0</td><td>4.82363</td><td>1.0</td><td>0.0</td><td>-10.893</td><td>1855</td><td>1785</td><td>30</td><td>1.0</td><td>1</td><td>0.0</td><td>0</td><td>0.0</td><td>70</td><td>198</td><td>386.752</td></tr>\n",
       "<tr><td>1</td><td>2</td><td>138704810</td><td>-50.0</td><td>-50.0</td><td>16.0</td><td>28.0</td><td>4.82363</td><td>1.0</td><td>0.0</td><td>-10.893</td><td>1855</td><td>1785</td><td>30</td><td>1.0</td><td>1</td><td>0.0</td><td>0</td><td>0.0</td><td>70</td><td>198</td><td>386.752</td></tr>\n",
       "<tr><td>2</td><td>4</td><td>138704810</td><td>50.0</td><td>50.0</td><td>16.0</td><td>28.0</td><td>4.82363</td><td>1.0</td><td>0.0</td><td>-10.893</td><td>1855</td><td>1785</td><td>30</td><td>1.0</td><td>1</td><td>0.0</td><td>0</td><td>0.0</td><td>70</td><td>198</td><td>386.752</td></tr>\n",
       "<tr><td>3</td><td>5</td><td>138704810</td><td>50.0</td><td>-50.0</td><td>16.0</td><td>28.0</td><td>4.82363</td><td>1.0</td><td>0.0</td><td>-10.893</td><td>1855</td><td>1785</td><td>30</td><td>1.0</td><td>1</td><td>0.0</td><td>0</td><td>0.0</td><td>70</td><td>198</td><td>386.752</td></tr>\n",
       "<tr><td>4</td><td>6</td><td>10408418</td><td>-0.0</td><td>100.0</td><td>10.0</td><td>16.0</td><td>8.43619</td><td>0.9721</td><td>0.0</td><td>-10.893</td><td>1855</td><td>1825</td><td>30</td><td>2.0</td><td>1</td><td>0.0</td><td>0</td><td>0.0</td><td>30</td><td>84</td><td>103.831</td></tr>\n",
       "<tr><td>5</td><td>8</td><td>10408418</td><td>-0.0</td><td>384.4</td><td>10.0</td><td>16.0</td><td>8.43619</td><td>0.9721</td><td>0.0</td><td>-10.893</td><td>1855</td><td>1825</td><td>30</td><td>2.0</td><td>1</td><td>0.0</td><td>0</td><td>0.0</td><td>30</td><td>84</td><td>103.831</td></tr>\n",
       "<tr><td>6</td><td>10</td><td>10408418</td><td>-0.0</td><td>-100.0</td><td>10.0</td><td>16.0</td><td>8.43619</td><td>0.9721</td><td>0.0</td><td>-10.893</td><td>1855</td><td>1825</td><td>30</td><td>2.0</td><td>1</td><td>0.0</td><td>0</td><td>0.0</td><td>30</td><td>84</td><td>103.831</td></tr>\n",
       "<tr><td>7</td><td>12</td><td>10408418</td><td>0.0</td><td>-384.4</td><td>10.0</td><td>16.0</td><td>8.43619</td><td>0.9721</td><td>0.0</td><td>-10.893</td><td>1855</td><td>1825</td><td>30</td><td>2.0</td><td>1</td><td>0.0</td><td>0</td><td>0.0</td><td>30</td><td>84</td><td>103.831</td></tr>\n",
       "<tr><td>8</td><td>14</td><td>10408418</td><td>-55.4</td><td>0.0</td><td>10.0</td><td>16.0</td><td>8.43619</td><td>0.9721</td><td>0.0</td><td>-10.893</td><td>1855</td><td>1825</td><td>30</td><td>2.0</td><td>1</td><td>0.0</td><td>0</td><td>0.0</td><td>30</td><td>84</td><td>103.831</td></tr>\n",
       "<tr><td>9</td><td>15</td><td>10408418</td><td>-66.9</td><td>298.4</td><td>10.0</td><td>16.0</td><td>8.43619</td><td>0.9721</td><td>0.0</td><td>-10.893</td><td>1855</td><td>1825</td><td>30</td><td>2.0</td><td>1</td><td>0.0</td><td>0</td><td>0.0</td><td>30</td><td>84</td><td>103.831</td></tr>\n",
       "<tr><td>...</td><td>...</td><td>...</td><td>...</td><td>...</td><td>...</td><td>...</td><td>...</td><td>...</td><td>...</td><td>...</td><td>...</td><td>...</td><td>...</td><td>...</td><td>...</td><td>...</td><td>...</td><td>...</td><td>...</td><td>...</td><td>...</td></tr>\n",
       "<tr><td>52</td><td>87</td><td>3709425</td><td>274.8</td><td>-756.2</td><td>7.0</td><td>11.2</td><td>9.36656</td><td>1.0</td><td>0.0</td><td>-0.0</td><td>1141</td><td>1141</td><td>40</td><td>2.0</td><td>1</td><td>0.0</td><td>0</td><td>0.0</td><td>0</td><td>120</td><td>37.175</td></tr>\n",
       "<tr><td>53</td><td>88</td><td>3709425</td><td>476.9</td><td>275.4</td><td>7.0</td><td>11.2</td><td>9.36656</td><td>1.0</td><td>0.0</td><td>-0.0</td><td>1141</td><td>1141</td><td>40</td><td>2.0</td><td>1</td><td>0.0</td><td>0</td><td>0.0</td><td>0</td><td>120</td><td>37.175</td></tr>\n",
       "<tr><td>54</td><td>89</td><td>3709425</td><td>476.9</td><td>-275.4</td><td>7.0</td><td>11.2</td><td>9.36656</td><td>1.0</td><td>0.0</td><td>-0.0</td><td>1141</td><td>1141</td><td>40</td><td>2.0</td><td>1</td><td>0.0</td><td>0</td><td>0.0</td><td>0</td><td>120</td><td>37.175</td></tr>\n",
       "<tr><td>55</td><td>90</td><td>3709425</td><td>483.8</td><td>-0.0</td><td>7.0</td><td>11.2</td><td>9.36656</td><td>1.0</td><td>0.0</td><td>-0.0</td><td>1141</td><td>1141</td><td>40</td><td>2.0</td><td>1</td><td>0.0</td><td>0</td><td>0.0</td><td>0</td><td>120</td><td>37.175</td></tr>\n",
       "<tr><td>56</td><td>91</td><td>3709425</td><td>517.5</td><td>616.1</td><td>7.0</td><td>11.2</td><td>9.36656</td><td>1.0</td><td>0.0</td><td>-0.0</td><td>1141</td><td>1141</td><td>40</td><td>2.0</td><td>1</td><td>0.0</td><td>0</td><td>0.0</td><td>0</td><td>120</td><td>37.175</td></tr>\n",
       "<tr><td>57</td><td>92</td><td>3709425</td><td>517.5</td><td>-616.1</td><td>7.0</td><td>11.2</td><td>9.36656</td><td>1.0</td><td>0.0</td><td>-0.0</td><td>1141</td><td>1141</td><td>40</td><td>2.0</td><td>1</td><td>0.0</td><td>0</td><td>0.0</td><td>0</td><td>120</td><td>37.175</td></tr>\n",
       "<tr><td>58</td><td>93</td><td>3709425</td><td>758.0</td><td>437.6</td><td>7.0</td><td>11.2</td><td>9.36656</td><td>1.0</td><td>0.0</td><td>-0.0</td><td>1141</td><td>1141</td><td>40</td><td>2.0</td><td>1</td><td>0.0</td><td>0</td><td>0.0</td><td>0</td><td>120</td><td>37.175</td></tr>\n",
       "<tr><td>59</td><td>94</td><td>3709425</td><td>758.0</td><td>-437.6</td><td>7.0</td><td>11.2</td><td>9.36656</td><td>1.0</td><td>0.0</td><td>-0.0</td><td>1141</td><td>1141</td><td>40</td><td>2.0</td><td>1</td><td>0.0</td><td>0</td><td>0.0</td><td>0</td><td>120</td><td>37.175</td></tr>\n",
       "<tr><td>60</td><td>95</td><td>3709425</td><td>792.3</td><td>140.1</td><td>7.0</td><td>11.2</td><td>9.36656</td><td>1.0</td><td>0.0</td><td>-0.0</td><td>1141</td><td>1141</td><td>40</td><td>2.0</td><td>1</td><td>0.0</td><td>0</td><td>0.0</td><td>0</td><td>120</td><td>37.175</td></tr>\n",
       "<tr><td>61</td><td>96</td><td>3709425</td><td>792.3</td><td>-140.1</td><td>7.0</td><td>11.2</td><td>9.36656</td><td>1.0</td><td>0.0</td><td>-0.0</td><td>1141</td><td>1141</td><td>40</td><td>2.0</td><td>1</td><td>0.0</td><td>0</td><td>0.0</td><td>0</td><td>120</td><td>37.175</td></tr>\n",
       "</table>"
      ],
      "text/plain": [
       "<Table length=62>\n",
       " L0ID TelID  TelType    TelX  ... HiLoOffset NTubesOFF NMirrors MirrorArea\n",
       "int64 int16   int64   float32 ...  float32     int16    int16    float32  \n",
       "----- ----- --------- ------- ... ---------- --------- -------- ----------\n",
       "    0     1 138704810   -50.0 ...        0.0        70      198    386.752\n",
       "    1     2 138704810   -50.0 ...        0.0        70      198    386.752\n",
       "    2     4 138704810    50.0 ...        0.0        70      198    386.752\n",
       "    3     5 138704810    50.0 ...        0.0        70      198    386.752\n",
       "    4     6  10408418    -0.0 ...        0.0        30       84    103.831\n",
       "    5     8  10408418    -0.0 ...        0.0        30       84    103.831\n",
       "    6    10  10408418    -0.0 ...        0.0        30       84    103.831\n",
       "    7    12  10408418     0.0 ...        0.0        30       84    103.831\n",
       "    8    14  10408418   -55.4 ...        0.0        30       84    103.831\n",
       "    9    15  10408418   -66.9 ...        0.0        30       84    103.831\n",
       "  ...   ...       ...     ... ...        ...       ...      ...        ...\n",
       "   52    87   3709425   274.8 ...        0.0         0      120     37.175\n",
       "   53    88   3709425   476.9 ...        0.0         0      120     37.175\n",
       "   54    89   3709425   476.9 ...        0.0         0      120     37.175\n",
       "   55    90   3709425   483.8 ...        0.0         0      120     37.175\n",
       "   56    91   3709425   517.5 ...        0.0         0      120     37.175\n",
       "   57    92   3709425   517.5 ...        0.0         0      120     37.175\n",
       "   58    93   3709425   758.0 ...        0.0         0      120     37.175\n",
       "   59    94   3709425   758.0 ...        0.0         0      120     37.175\n",
       "   60    95   3709425   792.3 ...        0.0         0      120     37.175\n",
       "   61    96   3709425   792.3 ...        0.0         0      120     37.175"
      ]
     },
     "execution_count": 14,
     "metadata": {},
     "output_type": "execute_result"
    }
   ],
   "source": [
    "tel1['TelescopeTable'] #from the fits file"
   ]
  },
  {
   "cell_type": "code",
   "execution_count": 15,
   "metadata": {
    "collapsed": false
   },
   "outputs": [
    {
     "data": {
      "text/html": [
       "&lt;Table length=126&gt;\n",
       "<table id=\"table4368947184\" class=\"table-striped table-bordered table-condensed\">\n",
       "<thead><tr><th>TelID</th><th>TelX</th><th>TelY</th><th>TelZ</th><th>MirA</th><th>MirN</th><th>FL</th></tr></thead>\n",
       "<thead><tr><th></th><th>m</th><th>m</th><th>m</th><th>m2</th><th></th><th>m</th></tr></thead>\n",
       "<thead><tr><th>int32</th><th>float64</th><th>float64</th><th>float64</th><th>float64</th><th>int64</th><th>float64</th></tr></thead>\n",
       "<tr><td>1</td><td>50.0</td><td>50.0</td><td>16.0</td><td>386.751556396</td><td>198</td><td>28.0</td></tr>\n",
       "<tr><td>2</td><td>-50.0</td><td>50.0</td><td>16.0</td><td>386.751556396</td><td>198</td><td>28.0</td></tr>\n",
       "<tr><td>3</td><td>50.0</td><td>-50.0</td><td>16.0</td><td>386.751556396</td><td>198</td><td>28.0</td></tr>\n",
       "<tr><td>4</td><td>-50.0</td><td>-50.0</td><td>16.0</td><td>386.751556396</td><td>198</td><td>28.0</td></tr>\n",
       "<tr><td>5</td><td>141.100006104</td><td>0.0</td><td>10.0</td><td>103.830558777</td><td>84</td><td>16.0</td></tr>\n",
       "<tr><td>6</td><td>-141.100006104</td><td>0.0</td><td>10.0</td><td>103.830558777</td><td>84</td><td>16.0</td></tr>\n",
       "<tr><td>7</td><td>0.0</td><td>55.4000015259</td><td>10.0</td><td>103.830558777</td><td>84</td><td>16.0</td></tr>\n",
       "<tr><td>8</td><td>298.399993896</td><td>66.9000015259</td><td>10.0</td><td>103.830558777</td><td>84</td><td>16.0</td></tr>\n",
       "<tr><td>9</td><td>-298.399993896</td><td>66.9000015259</td><td>10.0</td><td>103.830558777</td><td>84</td><td>16.0</td></tr>\n",
       "<tr><td>...</td><td>...</td><td>...</td><td>...</td><td>...</td><td>...</td><td>...</td></tr>\n",
       "<tr><td>117</td><td>-350.0</td><td>-350.0</td><td>10.0</td><td>73.3475723267</td><td>2</td><td>5.58629989624</td></tr>\n",
       "<tr><td>118</td><td>350.0</td><td>-350.0</td><td>10.0</td><td>73.3475723267</td><td>2</td><td>5.58629989624</td></tr>\n",
       "<tr><td>119</td><td>550.0</td><td>-150.0</td><td>10.0</td><td>73.3475723267</td><td>2</td><td>5.58629989624</td></tr>\n",
       "<tr><td>120</td><td>150.0</td><td>-550.0</td><td>10.0</td><td>73.3475723267</td><td>2</td><td>5.58629989624</td></tr>\n",
       "<tr><td>121</td><td>550.0</td><td>150.0</td><td>10.0</td><td>73.3475723267</td><td>2</td><td>5.58629989624</td></tr>\n",
       "<tr><td>122</td><td>150.0</td><td>550.0</td><td>10.0</td><td>73.3475723267</td><td>2</td><td>5.58629989624</td></tr>\n",
       "<tr><td>123</td><td>-150.0</td><td>550.0</td><td>10.0</td><td>73.3475723267</td><td>2</td><td>5.58629989624</td></tr>\n",
       "<tr><td>124</td><td>-550.0</td><td>150.0</td><td>10.0</td><td>73.3475723267</td><td>2</td><td>5.58629989624</td></tr>\n",
       "<tr><td>125</td><td>-150.0</td><td>-550.0</td><td>10.0</td><td>73.3475723267</td><td>2</td><td>5.58629989624</td></tr>\n",
       "<tr><td>126</td><td>-550.0</td><td>-150.0</td><td>10.0</td><td>73.3475723267</td><td>2</td><td>5.58629989624</td></tr>\n",
       "</table>"
      ],
      "text/plain": [
       "<Table length=126>\n",
       "TelID      TelX           TelY       TelZ       MirA      MirN       FL     \n",
       "            m              m          m          m2                  m      \n",
       "int32    float64        float64    float64    float64    int64    float64   \n",
       "----- -------------- ------------- ------- ------------- ----- -------------\n",
       "    1           50.0          50.0    16.0 386.751556396   198          28.0\n",
       "    2          -50.0          50.0    16.0 386.751556396   198          28.0\n",
       "    3           50.0         -50.0    16.0 386.751556396   198          28.0\n",
       "    4          -50.0         -50.0    16.0 386.751556396   198          28.0\n",
       "    5  141.100006104           0.0    10.0 103.830558777    84          16.0\n",
       "    6 -141.100006104           0.0    10.0 103.830558777    84          16.0\n",
       "    7            0.0 55.4000015259    10.0 103.830558777    84          16.0\n",
       "    8  298.399993896 66.9000015259    10.0 103.830558777    84          16.0\n",
       "    9 -298.399993896 66.9000015259    10.0 103.830558777    84          16.0\n",
       "  ...            ...           ...     ...           ...   ...           ...\n",
       "  117         -350.0        -350.0    10.0 73.3475723267     2 5.58629989624\n",
       "  118          350.0        -350.0    10.0 73.3475723267     2 5.58629989624\n",
       "  119          550.0        -150.0    10.0 73.3475723267     2 5.58629989624\n",
       "  120          150.0        -550.0    10.0 73.3475723267     2 5.58629989624\n",
       "  121          550.0         150.0    10.0 73.3475723267     2 5.58629989624\n",
       "  122          150.0         550.0    10.0 73.3475723267     2 5.58629989624\n",
       "  123         -150.0         550.0    10.0 73.3475723267     2 5.58629989624\n",
       "  124         -550.0         150.0    10.0 73.3475723267     2 5.58629989624\n",
       "  125         -150.0        -550.0    10.0 73.3475723267     2 5.58629989624\n",
       "  126         -550.0        -150.0    10.0 73.3475723267     2 5.58629989624"
      ]
     },
     "execution_count": 15,
     "metadata": {},
     "output_type": "execute_result"
    }
   ],
   "source": [
    "tel2['TelescopeTable_VersionFeb2016'] #from the hessio file"
   ]
  },
  {
   "cell_type": "code",
   "execution_count": 16,
   "metadata": {
    "collapsed": false
   },
   "outputs": [
    {
     "data": {
      "text/plain": [
       "{'TelNum': 126,\n",
       " 'TelX_description': 'x-position of the telescope measured by...',\n",
       " 'VERSION': 'Feb2016'}"
      ]
     },
     "execution_count": 16,
     "metadata": {},
     "output_type": "execute_result"
    }
   ],
   "source": [
    "tel2['TelescopeTable_VersionFeb2016'].meta #get the meta data of the table"
   ]
  },
  {
   "cell_type": "code",
   "execution_count": 17,
   "metadata": {
    "collapsed": false
   },
   "outputs": [
    {
     "data": {
      "text/html": [
       "&lt;Table length=2&gt;\n",
       "<table id=\"table9280521496\" class=\"table-striped table-bordered table-condensed\">\n",
       "<thead><tr><th>TelID</th><th>TriggerDelayComp</th><th>DefaultTrigger</th><th>TriggerDiscBins</th><th>TriggerDiscStart</th><th>DiscriminatorPulseShape</th><th>DiscriminatorAmplitude</th><th>DefaultTrig</th><th>TrigDelayComp</th><th>SamplingRate</th><th>FADCPulseShape</th><th>FADCBins</th><th>FADCSumBins</th><th>FADCSumOffset</th><th>FADCPedestal</th><th>FADCAmplitude</th><th>FADCNoise</th><th>NumGains</th><th>FADCLowGainAmplitude</th><th>FADCLowGainNoise</th><th>FADCMaxSignal</th><th>CamBodyDiam</th><th>CamDepth</th><th>CamConfig</th><th>PixNum</th></tr></thead>\n",
       "<thead><tr><th></th><th></th><th></th><th></th><th></th><th></th><th>mV</th><th></th><th></th><th>MHz</th><th></th><th></th><th></th><th></th><th></th><th></th><th></th><th></th><th></th><th></th><th></th><th>cm</th><th>cm</th><th></th><th></th></tr></thead>\n",
       "<thead><tr><th>int64</th><th>int64</th><th>str9</th><th>int64</th><th>int64</th><th>str53</th><th>float64</th><th>str9</th><th>int64</th><th>int64</th><th>str53</th><th>int64</th><th>int64</th><th>int64</th><th>int64</th><th>int64</th><th>float64</th><th>int64</th><th>float64</th><th>float64</th><th>int64</th><th>float64</th><th>int64</th><th>str65</th><th>int64</th></tr></thead>\n",
       "<tr><td>1</td><td>0</td><td>Majority</td><td>80</td><td>0</td><td>PulseShape_MPPC_S10943_Shaped_CutOff350MHz_Prod3.dat</td><td>1.0</td><td>Majority</td><td>0</td><td>1000</td><td>PulseShape_MPPC_S10943_Shaped_CutOff350MHz_Prod3.dat</td><td>80</td><td>64</td><td>12</td><td>25</td><td>14</td><td>3.5</td><td>1</td><td>1.0</td><td>1.0</td><td>65535</td><td>154.0</td><td>0</td><td>camera_CTA-SC-MST-54mmModPitch_0.5mmModDS_6.5mmPixAct_Prod3.dat</td><td>11328</td></tr>\n",
       "<tr><td>2</td><td>0</td><td>Majority</td><td>80</td><td>0</td><td>PulseShape_MPPC_S10943_Shaped_CutOff350MHz_Prod3.dat</td><td>1.0</td><td>Majority</td><td>0</td><td>1000</td><td>PulseShape_MPPC_S10943_Shaped_CutOff350MHz_Prod3.dat</td><td>80</td><td>64</td><td>12</td><td>25</td><td>14</td><td>3.5</td><td>1</td><td>1.0</td><td>1.0</td><td>65535</td><td>154.0</td><td>0</td><td>camera_CTA-SC-MST-54mmModPitch_0.5mmModDS_6.5mmPixAct_Prod3.dat</td><td>11328</td></tr>\n",
       "</table>"
      ],
      "text/plain": [
       "<Table length=2>\n",
       "TelID TriggerDelayComp ... PixNum\n",
       "                       ...       \n",
       "int64      int64       ... int64 \n",
       "----- ---------------- ... ------\n",
       "    1                0 ...  11328\n",
       "    2                0 ...  11328"
      ]
     },
     "execution_count": 17,
     "metadata": {},
     "output_type": "execute_result"
    }
   ],
   "source": [
    "tel3['TelescopeTable_CTA-ULTRA6-SCT'] #from the simtelarray-config file"
   ]
  },
  {
   "cell_type": "code",
   "execution_count": 18,
   "metadata": {
    "collapsed": false
   },
   "outputs": [
    {
     "data": {
      "text/plain": [
       "{'VERSION': 'CTA-ULTRA6-SCT'}"
      ]
     },
     "execution_count": 18,
     "metadata": {},
     "output_type": "execute_result"
    }
   ],
   "source": [
    "tel3['TelescopeTable_CTA-ULTRA6-SCT'].meta #get the meta data of the table"
   ]
  },
  {
   "cell_type": "code",
   "execution_count": 19,
   "metadata": {
    "collapsed": false
   },
   "outputs": [
    {
     "data": {
      "text/html": [
       "&lt;Table length=10&gt;\n",
       "<table id=\"table9285188744\" class=\"table-striped table-bordered table-condensed\">\n",
       "<thead><tr><th>TelID</th><th>TelX</th><th>TelY</th><th>TelZ</th><th>MirA</th><th>MirN</th><th>FL</th></tr></thead>\n",
       "<thead><tr><th></th><th>m</th><th>m</th><th>m</th><th>m2</th><th></th><th>m</th></tr></thead>\n",
       "<thead><tr><th>int64</th><th>float64</th><th>float64</th><th>float64</th><th>float64</th><th>int64</th><th>float64</th></tr></thead>\n",
       "<tr><td>117</td><td>60.9669293413</td><td>8.38470031229</td><td>44.9792734971</td><td>27.7501550084</td><td>57</td><td>27.5676244573</td></tr>\n",
       "<tr><td>102</td><td>81.8403457116</td><td>71.2069253148</td><td>56.1680376131</td><td>54.6366909888</td><td>101</td><td>40.332916774</td></tr>\n",
       "<tr><td>60</td><td>52.9868712919</td><td>32.1810564861</td><td>27.8026137541</td><td>72.5394412559</td><td>92</td><td>19.3251670106</td></tr>\n",
       "<tr><td>22</td><td>2.35820996722</td><td>79.5803870648</td><td>51.5880993064</td><td>5.26168336707</td><td>99</td><td>50.884596782</td></tr>\n",
       "<tr><td>39</td><td>39.3463370372</td><td>14.1684467545</td><td>7.19089331852</td><td>44.2493712847</td><td>110</td><td>87.4200202444</td></tr>\n",
       "<tr><td>4</td><td>19.2315920221</td><td>48.8773023897</td><td>61.9565409809</td><td>42.8342398897</td><td>67</td><td>1.57128149258</td></tr>\n",
       "<tr><td>39</td><td>95.1545459861</td><td>44.4086043061</td><td>17.634168675</td><td>42.4526867359</td><td>96</td><td>51.2999153849</td></tr>\n",
       "<tr><td>18</td><td>77.7614696511</td><td>14.8351154618</td><td>64.0051948928</td><td>10.608896846</td><td>8</td><td>91.6524891481</td></tr>\n",
       "<tr><td>17</td><td>75.0724189963</td><td>16.7929319073</td><td>38.3428998275</td><td>26.3452361199</td><td>84</td><td>17.5794242824</td></tr>\n",
       "<tr><td>34</td><td>64.4551839942</td><td>18.0365375343</td><td>34.3005524482</td><td>82.3408903378</td><td>111</td><td>34.4369833285</td></tr>\n",
       "</table>"
      ],
      "text/plain": [
       "<Table length=10>\n",
       "TelID      TelX          TelY     ...      MirA      MirN       FL     \n",
       "            m             m       ...       m2                  m      \n",
       "int64    float64       float64    ...    float64    int64    float64   \n",
       "----- ------------- ------------- ... ------------- ----- -------------\n",
       "  117 60.9669293413 8.38470031229 ... 27.7501550084    57 27.5676244573\n",
       "  102 81.8403457116 71.2069253148 ... 54.6366909888   101  40.332916774\n",
       "   60 52.9868712919 32.1810564861 ... 72.5394412559    92 19.3251670106\n",
       "   22 2.35820996722 79.5803870648 ... 5.26168336707    99  50.884596782\n",
       "   39 39.3463370372 14.1684467545 ... 44.2493712847   110 87.4200202444\n",
       "    4 19.2315920221 48.8773023897 ... 42.8342398897    67 1.57128149258\n",
       "   39 95.1545459861 44.4086043061 ... 42.4526867359    96 51.2999153849\n",
       "   18 77.7614696511 14.8351154618 ...  10.608896846     8 91.6524891481\n",
       "   17 75.0724189963 16.7929319073 ... 26.3452361199    84 17.5794242824\n",
       "   34 64.4551839942 18.0365375343 ... 82.3408903378   111 34.4369833285"
      ]
     },
     "execution_count": 19,
     "metadata": {},
     "output_type": "execute_result"
    }
   ],
   "source": [
    "tel4['TelescopeTable_VersionFeb2016'] #from the faked data"
   ]
  },
  {
   "cell_type": "markdown",
   "metadata": {},
   "source": [
    "Print an optics table of a specific telescope"
   ]
  },
  {
   "cell_type": "code",
   "execution_count": 20,
   "metadata": {
    "collapsed": false
   },
   "outputs": [
    {
     "data": {
      "text/html": [
       "&lt;Table length=2&gt;\n",
       "<table id=\"table9113892736\" class=\"table-striped table-bordered table-condensed\">\n",
       "<thead><tr><th>MirrID</th><th>MirArea</th><th>OptFocLen</th></tr></thead>\n",
       "<thead><tr><th></th><th>m2</th><th>m</th></tr></thead>\n",
       "<thead><tr><th>int64</th><th>float64</th><th>float64</th></tr></thead>\n",
       "<tr><td>1</td><td>14.5625667572</td><td>2.15000009537</td></tr>\n",
       "<tr><td>2</td><td>14.5625667572</td><td>2.15000009537</td></tr>\n",
       "</table>"
      ],
      "text/plain": [
       "<Table length=2>\n",
       "MirrID    MirArea      OptFocLen  \n",
       "             m2            m      \n",
       "int64     float64       float64   \n",
       "------ ------------- -------------\n",
       "     1 14.5625667572 2.15000009537\n",
       "     2 14.5625667572 2.15000009537"
      ]
     },
     "execution_count": 20,
     "metadata": {},
     "output_type": "execute_result"
    }
   ],
   "source": [
    "opt2['OpticsTable_VersionFeb2016_TelID76'] #from the hessio file"
   ]
  },
  {
   "cell_type": "code",
   "execution_count": 21,
   "metadata": {
    "collapsed": true
   },
   "outputs": [],
   "source": [
    "opt2['OpticsTable_VersionFeb2016_TelID76'].show_in_browser( jsviewer=True )"
   ]
  },
  {
   "cell_type": "code",
   "execution_count": 22,
   "metadata": {
    "collapsed": false
   },
   "outputs": [
    {
     "data": {
      "text/html": [
       "&lt;Table length=1&gt;\n",
       "<table id=\"table9285185776\" class=\"table-striped table-bordered table-condensed\">\n",
       "<thead><tr><th>PrimMirParam [8]</th><th>PrimRefRad</th><th>PrimDiam</th><th>PrimHoleDiam</th><th>SndMirParam [8]</th><th>SndRefRad</th><th>SndDiam</th><th>SndHoleDiam</th><th>FocalSurfParam [3]</th><th>FL</th><th>FocalSurfRefRad</th><th>RandmFocalLen</th><th>MirReflRndmAngle</th><th>MirAlignRndmDist</th><th>MirAlignRndmHoriz</th><th>MirAlignRndmVert</th><th>MirRefl</th><th>MirList</th><th>MirOffset</th><th>FocusOffset</th><th>TelTrans</th><th>TelRndmAngle</th><th>TelRndmErr</th></tr></thead>\n",
       "<thead><tr><th></th><th>cm</th><th>cm</th><th>cm</th><th></th><th>cm</th><th>cm</th><th>cm</th><th></th><th>cm</th><th>cm</th><th>cm</th><th>deg</th><th>cm</th><th></th><th></th><th></th><th></th><th></th><th></th><th></th><th></th><th></th></tr></thead>\n",
       "<thead><tr><th>float64</th><th>float64</th><th>float64</th><th>float64</th><th>float64</th><th>float64</th><th>float64</th><th>float64</th><th>float64</th><th>float64</th><th>float64</th><th>float64</th><th>float64</th><th>float64</th><th>float64</th><th>float64</th><th>str29</th><th>str5</th><th>float64</th><th>float64</th><th>float64</th><th>float64</th><th>float64</th></tr></thead>\n",
       "<tr><td>8.4374e-06 .. -0.0172745</td><td>558.63</td><td>966.38</td><td>438.66</td><td>1.5 .. -15.3711</td><td>558.63</td><td>541.66</td><td>78.9</td><td>651.485 .. 2.86525e-08</td><td>558.63</td><td>1.0</td><td>0.0</td><td>0.025</td><td>0.0</td><td>0.0</td><td>0.0</td><td>Reflectance_SC-MST_Prod3.dat</td><td>none</td><td>0.0</td><td>0.0</td><td>0.81</td><td>0.0</td><td>0.0</td></tr>\n",
       "</table>"
      ],
      "text/plain": [
       "<Table length=1>\n",
       "    PrimMirParam [8]     PrimRefRad PrimDiam ... TelRndmAngle TelRndmErr\n",
       "                             cm        cm    ...                        \n",
       "        float64           float64   float64  ...   float64     float64  \n",
       "------------------------ ---------- -------- ... ------------ ----------\n",
       "8.4374e-06 .. -0.0172745     558.63   966.38 ...          0.0        0.0"
      ]
     },
     "execution_count": 22,
     "metadata": {},
     "output_type": "execute_result"
    }
   ],
   "source": [
    "opt3['OpticsTable_CTA-ULTRA6-SCT'] #from the simtelarray-config file"
   ]
  },
  {
   "cell_type": "markdown",
   "metadata": {},
   "source": [
    "Print all the information stored for a given telescope in a table"
   ]
  },
  {
   "cell_type": "code",
   "execution_count": 23,
   "metadata": {
    "collapsed": false
   },
   "outputs": [
    {
     "data": {
      "text/html": [
       "&lt;Table length=1&gt;\n",
       "<table id=\"table4367233656\" class=\"table-striped table-bordered table-condensed\">\n",
       "<thead><tr><th>TelID</th><th>TelX</th><th>TelY</th><th>TelZ</th><th>MirA</th><th>MirN</th><th>FL</th></tr></thead>\n",
       "<thead><tr><th></th><th>m</th><th>m</th><th>m</th><th>m2</th><th></th><th>m</th></tr></thead>\n",
       "<thead><tr><th>int32</th><th>float64</th><th>float64</th><th>float64</th><th>float64</th><th>int64</th><th>float64</th></tr></thead>\n",
       "<tr><td>1</td><td>50.0</td><td>50.0</td><td>16.0</td><td>386.751556396</td><td>198</td><td>28.0</td></tr>\n",
       "</table>"
      ],
      "text/plain": [
       "<Table length=1>\n",
       "TelID   TelX    TelY    TelZ       MirA      MirN    FL  \n",
       "         m       m       m          m2               m   \n",
       "int32 float64 float64 float64    float64    int64 float64\n",
       "----- ------- ------- ------- ------------- ----- -------\n",
       "    1    50.0    50.0    16.0 386.751556396   198    28.0"
      ]
     },
     "execution_count": 23,
     "metadata": {},
     "output_type": "execute_result"
    }
   ],
   "source": [
    "tel2['TelescopeTable_VersionFeb2016'][tel2['TelescopeTable_VersionFeb2016']['TelID']==1] #from hessio file, TelID=1"
   ]
  },
  {
   "cell_type": "markdown",
   "metadata": {},
   "source": [
    "Print a specific information stored for a given telescope in a table, e.g. the x position of the pixels"
   ]
  },
  {
   "cell_type": "code",
   "execution_count": 24,
   "metadata": {
    "collapsed": false
   },
   "outputs": [
    {
     "ename": "KeyError",
     "evalue": "'PixX'",
     "output_type": "error",
     "traceback": [
      "\u001b[0;31m---------------------------------------------------------------------------\u001b[0m",
      "\u001b[0;31mKeyError\u001b[0m                                  Traceback (most recent call last)",
      "\u001b[0;32m<ipython-input-24-1d9e7d3a9efc>\u001b[0m in \u001b[0;36m<module>\u001b[0;34m()\u001b[0m\n\u001b[0;32m----> 1\u001b[0;31m \u001b[0mcam3\u001b[0m\u001b[0;34m[\u001b[0m\u001b[0;34m'CameraTable_CTA-ULTRA6-SCT'\u001b[0m\u001b[0;34m]\u001b[0m\u001b[0;34m[\u001b[0m\u001b[0;34m'PixX'\u001b[0m\u001b[0;34m]\u001b[0m \u001b[0;31m#from simtelarray-config file\u001b[0m\u001b[0;34m\u001b[0m\u001b[0m\n\u001b[0m",
      "\u001b[0;32m/Applications/anaconda/envs/cta/lib/python3.5/site-packages/astropy/table/table.py\u001b[0m in \u001b[0;36m__getitem__\u001b[0;34m(self, item)\u001b[0m\n\u001b[1;32m   1157\u001b[0m     \u001b[0;32mdef\u001b[0m \u001b[0m__getitem__\u001b[0m\u001b[0;34m(\u001b[0m\u001b[0mself\u001b[0m\u001b[0;34m,\u001b[0m \u001b[0mitem\u001b[0m\u001b[0;34m)\u001b[0m\u001b[0;34m:\u001b[0m\u001b[0;34m\u001b[0m\u001b[0m\n\u001b[1;32m   1158\u001b[0m         \u001b[0;32mif\u001b[0m \u001b[0misinstance\u001b[0m\u001b[0;34m(\u001b[0m\u001b[0mitem\u001b[0m\u001b[0;34m,\u001b[0m \u001b[0msix\u001b[0m\u001b[0;34m.\u001b[0m\u001b[0mstring_types\u001b[0m\u001b[0;34m)\u001b[0m\u001b[0;34m:\u001b[0m\u001b[0;34m\u001b[0m\u001b[0m\n\u001b[0;32m-> 1159\u001b[0;31m             \u001b[0;32mreturn\u001b[0m \u001b[0mself\u001b[0m\u001b[0;34m.\u001b[0m\u001b[0mcolumns\u001b[0m\u001b[0;34m[\u001b[0m\u001b[0mitem\u001b[0m\u001b[0;34m]\u001b[0m\u001b[0;34m\u001b[0m\u001b[0m\n\u001b[0m\u001b[1;32m   1160\u001b[0m         \u001b[0;32melif\u001b[0m \u001b[0misinstance\u001b[0m\u001b[0;34m(\u001b[0m\u001b[0mitem\u001b[0m\u001b[0;34m,\u001b[0m \u001b[0;34m(\u001b[0m\u001b[0mint\u001b[0m\u001b[0;34m,\u001b[0m \u001b[0mnp\u001b[0m\u001b[0;34m.\u001b[0m\u001b[0minteger\u001b[0m\u001b[0;34m)\u001b[0m\u001b[0;34m)\u001b[0m\u001b[0;34m:\u001b[0m\u001b[0;34m\u001b[0m\u001b[0m\n\u001b[1;32m   1161\u001b[0m             \u001b[0;32mreturn\u001b[0m \u001b[0mself\u001b[0m\u001b[0;34m.\u001b[0m\u001b[0mRow\u001b[0m\u001b[0;34m(\u001b[0m\u001b[0mself\u001b[0m\u001b[0;34m,\u001b[0m \u001b[0mitem\u001b[0m\u001b[0;34m)\u001b[0m\u001b[0;34m\u001b[0m\u001b[0m\n",
      "\u001b[0;32m/Applications/anaconda/envs/cta/lib/python3.5/site-packages/astropy/table/table.py\u001b[0m in \u001b[0;36m__getitem__\u001b[0;34m(self, item)\u001b[0m\n\u001b[1;32m     96\u001b[0m         \"\"\"\n\u001b[1;32m     97\u001b[0m         \u001b[0;32mif\u001b[0m \u001b[0misinstance\u001b[0m\u001b[0;34m(\u001b[0m\u001b[0mitem\u001b[0m\u001b[0;34m,\u001b[0m \u001b[0msix\u001b[0m\u001b[0;34m.\u001b[0m\u001b[0mstring_types\u001b[0m\u001b[0;34m)\u001b[0m\u001b[0;34m:\u001b[0m\u001b[0;34m\u001b[0m\u001b[0m\n\u001b[0;32m---> 98\u001b[0;31m             \u001b[0;32mreturn\u001b[0m \u001b[0mOrderedDict\u001b[0m\u001b[0;34m.\u001b[0m\u001b[0m__getitem__\u001b[0m\u001b[0;34m(\u001b[0m\u001b[0mself\u001b[0m\u001b[0;34m,\u001b[0m \u001b[0mitem\u001b[0m\u001b[0;34m)\u001b[0m\u001b[0;34m\u001b[0m\u001b[0m\n\u001b[0m\u001b[1;32m     99\u001b[0m         \u001b[0;32melif\u001b[0m \u001b[0misinstance\u001b[0m\u001b[0;34m(\u001b[0m\u001b[0mitem\u001b[0m\u001b[0;34m,\u001b[0m \u001b[0;34m(\u001b[0m\u001b[0mint\u001b[0m\u001b[0;34m,\u001b[0m \u001b[0mnp\u001b[0m\u001b[0;34m.\u001b[0m\u001b[0minteger\u001b[0m\u001b[0;34m)\u001b[0m\u001b[0;34m)\u001b[0m\u001b[0;34m:\u001b[0m\u001b[0;34m\u001b[0m\u001b[0m\n\u001b[1;32m    100\u001b[0m             \u001b[0;32mreturn\u001b[0m \u001b[0mself\u001b[0m\u001b[0;34m.\u001b[0m\u001b[0mvalues\u001b[0m\u001b[0;34m(\u001b[0m\u001b[0;34m)\u001b[0m\u001b[0;34m[\u001b[0m\u001b[0mitem\u001b[0m\u001b[0;34m]\u001b[0m\u001b[0;34m\u001b[0m\u001b[0m\n",
      "\u001b[0;31mKeyError\u001b[0m: 'PixX'"
     ]
    }
   ],
   "source": [
    "cam3['CameraTable_CTA-ULTRA6-SCT']['PixX'] #from simtelarray-config file"
   ]
  },
  {
   "cell_type": "markdown",
   "metadata": {},
   "source": [
    "Print and plot the discriminator pulse shape"
   ]
  },
  {
   "cell_type": "code",
   "execution_count": 25,
   "metadata": {
    "collapsed": false
   },
   "outputs": [
    {
     "data": {
      "text/html": [
       "&lt;Table length=108&gt;\n",
       "<table id=\"table9280521552\" class=\"table-striped table-bordered table-condensed\">\n",
       "<thead><tr><th>Time</th><th>Amplitude</th></tr></thead>\n",
       "<thead><tr><th>ns</th><th></th></tr></thead>\n",
       "<thead><tr><th>float64</th><th>float64</th></tr></thead>\n",
       "<tr><td>-0.6</td><td>0.0</td></tr>\n",
       "<tr><td>-0.4</td><td>0.004</td></tr>\n",
       "<tr><td>-0.2</td><td>0.01</td></tr>\n",
       "<tr><td>0.0</td><td>0.0189129159736</td></tr>\n",
       "<tr><td>0.2</td><td>0.015182254358</td></tr>\n",
       "<tr><td>0.4</td><td>0.012182340894</td></tr>\n",
       "<tr><td>0.6</td><td>0.0122784919666</td></tr>\n",
       "<tr><td>0.8</td><td>0.0152495601088</td></tr>\n",
       "<tr><td>1.0</td><td>0.0183840850745</td></tr>\n",
       "<tr><td>...</td><td>...</td></tr>\n",
       "<tr><td>19.0</td><td>-0.0327875157447</td></tr>\n",
       "<tr><td>19.2</td><td>-0.0298549080315</td></tr>\n",
       "<tr><td>19.4</td><td>-0.0298452929242</td></tr>\n",
       "<tr><td>19.6</td><td>-0.0317586992683</td></tr>\n",
       "<tr><td>19.8</td><td>-0.0337105660414</td></tr>\n",
       "<tr><td>20.0</td><td>0.025</td></tr>\n",
       "<tr><td>20.2</td><td>0.02</td></tr>\n",
       "<tr><td>20.4</td><td>0.12</td></tr>\n",
       "<tr><td>20.6</td><td>0.06</td></tr>\n",
       "<tr><td>20.8</td><td>0.0</td></tr>\n",
       "</table>"
      ],
      "text/plain": [
       "<Table length=108>\n",
       "  Time     Amplitude    \n",
       "   ns                   \n",
       "float64     float64     \n",
       "------- ----------------\n",
       "   -0.6              0.0\n",
       "   -0.4            0.004\n",
       "   -0.2             0.01\n",
       "    0.0  0.0189129159736\n",
       "    0.2   0.015182254358\n",
       "    0.4   0.012182340894\n",
       "    0.6  0.0122784919666\n",
       "    0.8  0.0152495601088\n",
       "    1.0  0.0183840850745\n",
       "    ...              ...\n",
       "   19.0 -0.0327875157447\n",
       "   19.2 -0.0298549080315\n",
       "   19.4 -0.0298452929242\n",
       "   19.6 -0.0317586992683\n",
       "   19.8 -0.0337105660414\n",
       "   20.0            0.025\n",
       "   20.2             0.02\n",
       "   20.4             0.12\n",
       "   20.6             0.06\n",
       "   20.8              0.0"
      ]
     },
     "execution_count": 25,
     "metadata": {},
     "output_type": "execute_result"
    }
   ],
   "source": [
    "tel3['Tel_DiscriminatorPulseShape'] #from simtelarray-config file"
   ]
  },
  {
   "cell_type": "code",
   "execution_count": 26,
   "metadata": {
    "collapsed": false
   },
   "outputs": [
    {
     "data": {
      "text/plain": [
       "{'NAME': 'Discriminator pulse shape',\n",
       " 'VERSION': 'PulseShape_MPPC_S10943_Shaped_CutOff350MHz_Prod3'}"
      ]
     },
     "execution_count": 26,
     "metadata": {},
     "output_type": "execute_result"
    }
   ],
   "source": [
    "tel3['Tel_DiscriminatorPulseShape'].meta #get the meta data of the table"
   ]
  },
  {
   "cell_type": "code",
   "execution_count": 27,
   "metadata": {
    "collapsed": false
   },
   "outputs": [
    {
     "data": {
      "image/png": "[encoded data removed]",
      "text/plain": [
       "<matplotlib.figure.Figure at 0x104529518>"
      ]
     },
     "metadata": {},
     "output_type": "display_data"
    }
   ],
   "source": [
    "title = 'Discriminator Pulse Shape'\n",
    "plt.figure()\n",
    "plt.plot(tel3['Tel_DiscriminatorPulseShape']['Time'],\\\n",
    "tel3['Tel_DiscriminatorPulseShape']['Amplitude'],'+')\n",
    "plt.title(title)\n",
    "plt.xlabel('Time (%s)'% \\\n",
    "tel3['Tel_DiscriminatorPulseShape']['Time'].unit)\n",
    "plt.ylabel('Amplitude')\n",
    "plt.show()"
   ]
  },
  {
   "cell_type": "markdown",
   "metadata": {},
   "source": [
    "Plot the mirror reflectivity vs wavelength stored in a config file"
   ]
  },
  {
   "cell_type": "code",
   "execution_count": 28,
   "metadata": {
    "collapsed": false
   },
   "outputs": [
    {
     "data": {
      "text/html": [
       "&lt;Table length=59&gt;\n",
       "<table id=\"table9285186896\" class=\"table-striped table-bordered table-condensed\">\n",
       "<thead><tr><th>Wavelength</th><th>Reflectivity</th></tr></thead>\n",
       "<thead><tr><th>nm</th><th></th></tr></thead>\n",
       "<thead><tr><th>float64</th><th>float64</th></tr></thead>\n",
       "<tr><td>251.23</td><td>0.42218</td></tr>\n",
       "<tr><td>252.45</td><td>0.46632</td></tr>\n",
       "<tr><td>255.51</td><td>0.50037</td></tr>\n",
       "<tr><td>258.58</td><td>0.5382</td></tr>\n",
       "<tr><td>261.64</td><td>0.56972</td></tr>\n",
       "<tr><td>264.09</td><td>0.60125</td></tr>\n",
       "<tr><td>267.16</td><td>0.63277</td></tr>\n",
       "<tr><td>270.83</td><td>0.67061</td></tr>\n",
       "<tr><td>274.51</td><td>0.69961</td></tr>\n",
       "<tr><td>...</td><td>...</td></tr>\n",
       "<tr><td>680.0</td><td>0.8307</td></tr>\n",
       "<tr><td>690.0</td><td>0.8216</td></tr>\n",
       "<tr><td>700.0</td><td>0.8115</td></tr>\n",
       "<tr><td>710.0</td><td>0.8007</td></tr>\n",
       "<tr><td>720.0</td><td>0.7896</td></tr>\n",
       "<tr><td>730.0</td><td>0.7794</td></tr>\n",
       "<tr><td>740.0</td><td>0.7663</td></tr>\n",
       "<tr><td>830.0</td><td>0.7</td></tr>\n",
       "<tr><td>900.0</td><td>0.75</td></tr>\n",
       "<tr><td>999.0</td><td>0.85</td></tr>\n",
       "</table>"
      ],
      "text/plain": [
       "<Table length=59>\n",
       "Wavelength Reflectivity\n",
       "    nm                 \n",
       " float64     float64   \n",
       "---------- ------------\n",
       "    251.23      0.42218\n",
       "    252.45      0.46632\n",
       "    255.51      0.50037\n",
       "    258.58       0.5382\n",
       "    261.64      0.56972\n",
       "    264.09      0.60125\n",
       "    267.16      0.63277\n",
       "    270.83      0.67061\n",
       "    274.51      0.69961\n",
       "       ...          ...\n",
       "     680.0       0.8307\n",
       "     690.0       0.8216\n",
       "     700.0       0.8115\n",
       "     710.0       0.8007\n",
       "     720.0       0.7896\n",
       "     730.0       0.7794\n",
       "     740.0       0.7663\n",
       "     830.0          0.7\n",
       "     900.0         0.75\n",
       "     999.0         0.85"
      ]
     },
     "execution_count": 28,
     "metadata": {},
     "output_type": "execute_result"
    }
   ],
   "source": [
    "opt3['Opt_MirrorRefelctivity'] #from simtelarray-config file"
   ]
  },
  {
   "cell_type": "code",
   "execution_count": 29,
   "metadata": {
    "collapsed": false
   },
   "outputs": [
    {
     "data": {
      "image/png": "[encoded data removed]",
      "text/plain": [
       "<matplotlib.figure.Figure at 0x104553908>"
      ]
     },
     "metadata": {},
     "output_type": "display_data"
    }
   ],
   "source": [
    "# title = 'Mirror reflectivity versus wavelength'\n",
    "plt.figure()\n",
    "plt.plot(opt3['Opt_MirrorRefelctivity']['Wavelength'],\n",
    "         opt3['Opt_MirrorRefelctivity']['Reflectivity'],\n",
    "         '+')\n",
    "plt.title(title)\n",
    "plt.xlabel('Wavelength (%s)' % \\\n",
    "opt3['Opt_MirrorRefelctivity']['Wavelength'].unit)\n",
    "plt.show()"
   ]
  },
  {
   "cell_type": "markdown",
   "metadata": {},
   "source": [
    "# Write out the tables to fits files"
   ]
  },
  {
   "cell_type": "markdown",
   "metadata": {},
   "source": [
    "Write all tables of dictionary 'tel1' to files. In dictionary 'tel1', there is exactly one table called 'TelescopeTable', thus the name of the file will be 'TelescopeTable.fits'."
   ]
  },
  {
   "cell_type": "code",
   "execution_count": 30,
   "metadata": {
    "collapsed": false
   },
   "outputs": [
    {
     "name": "stdout",
     "output_type": "stream",
     "text": [
      "TelescopeTable.fits has been created\n",
      "Writing process finished.\n"
     ]
    }
   ],
   "source": [
    "ID.write_fits(instr_dict=tel1,overwrite=True)"
   ]
  },
  {
   "cell_type": "code",
   "execution_count": 31,
   "metadata": {
    "collapsed": false
   },
   "outputs": [
    {
     "name": "stdout",
     "output_type": "stream",
     "text": [
      "-rw-r--r--  1 alisonmitchell  staff  14400 11 Oct 14:45 TelescopeTable.fits\r\n"
     ]
    }
   ],
   "source": [
    "ll TelescopeTable.fits"
   ]
  },
  {
   "cell_type": "markdown",
   "metadata": {},
   "source": [
    "Load the new created file"
   ]
  },
  {
   "cell_type": "code",
   "execution_count": 32,
   "metadata": {
    "collapsed": false
   },
   "outputs": [
    {
     "name": "stdout",
     "output_type": "stream",
     "text": [
      "Fits file will be opened.\n",
      "Astropy tables have been created.\n"
     ]
    }
   ],
   "source": [
    "tel11,cam11,opt11 = ID.load('TelescopeTable.fits')"
   ]
  },
  {
   "cell_type": "markdown",
   "metadata": {},
   "source": [
    "Show the name of the tables stored in the dictionaries"
   ]
  },
  {
   "cell_type": "code",
   "execution_count": 33,
   "metadata": {
    "collapsed": false
   },
   "outputs": [
    {
     "data": {
      "text/plain": [
       "(dict_keys(['TelescopeTable']), dict_keys([]), dict_keys([]))"
      ]
     },
     "execution_count": 33,
     "metadata": {},
     "output_type": "execute_result"
    }
   ],
   "source": [
    "tel11.keys(),cam11.keys(),opt11.keys()"
   ]
  },
  {
   "cell_type": "markdown",
   "metadata": {},
   "source": [
    "Print the table 'TelescopeTable'"
   ]
  },
  {
   "cell_type": "code",
   "execution_count": 34,
   "metadata": {
    "collapsed": false
   },
   "outputs": [
    {
     "data": {
      "text/html": [
       "&lt;Table length=62&gt;\n",
       "<table id=\"table4368139208\" class=\"table-striped table-bordered table-condensed\">\n",
       "<thead><tr><th>L0ID</th><th>TelID</th><th>TelType</th><th>TelX</th><th>TelY</th><th>TelZ</th><th>FL</th><th>FOV</th><th>CameraScaleFactor</th><th>CameraCentreOffset</th><th>CameraRotation</th><th>NPixel</th><th>NPixel_active</th><th>NSamples</th><th>Sample_time_slice</th><th>NGains</th><th>HiLoScale</th><th>HiLoThreshold</th><th>HiLoOffset</th><th>NTubesOFF</th><th>NMirrors</th><th>MirrorArea</th></tr></thead>\n",
       "<thead><tr><th>int64</th><th>int16</th><th>int64</th><th>float32</th><th>float32</th><th>float32</th><th>float32</th><th>float32</th><th>float32</th><th>float32</th><th>float32</th><th>int16</th><th>int16</th><th>int16</th><th>float32</th><th>int16</th><th>float32</th><th>int16</th><th>float32</th><th>int16</th><th>int16</th><th>float32</th></tr></thead>\n",
       "<tr><td>0</td><td>1</td><td>138704810</td><td>-50.0</td><td>50.0</td><td>16.0</td><td>28.0</td><td>4.82363</td><td>1.0</td><td>0.0</td><td>-10.893</td><td>1855</td><td>1785</td><td>30</td><td>1.0</td><td>1</td><td>0.0</td><td>0</td><td>0.0</td><td>70</td><td>198</td><td>386.752</td></tr>\n",
       "<tr><td>1</td><td>2</td><td>138704810</td><td>-50.0</td><td>-50.0</td><td>16.0</td><td>28.0</td><td>4.82363</td><td>1.0</td><td>0.0</td><td>-10.893</td><td>1855</td><td>1785</td><td>30</td><td>1.0</td><td>1</td><td>0.0</td><td>0</td><td>0.0</td><td>70</td><td>198</td><td>386.752</td></tr>\n",
       "<tr><td>2</td><td>4</td><td>138704810</td><td>50.0</td><td>50.0</td><td>16.0</td><td>28.0</td><td>4.82363</td><td>1.0</td><td>0.0</td><td>-10.893</td><td>1855</td><td>1785</td><td>30</td><td>1.0</td><td>1</td><td>0.0</td><td>0</td><td>0.0</td><td>70</td><td>198</td><td>386.752</td></tr>\n",
       "<tr><td>3</td><td>5</td><td>138704810</td><td>50.0</td><td>-50.0</td><td>16.0</td><td>28.0</td><td>4.82363</td><td>1.0</td><td>0.0</td><td>-10.893</td><td>1855</td><td>1785</td><td>30</td><td>1.0</td><td>1</td><td>0.0</td><td>0</td><td>0.0</td><td>70</td><td>198</td><td>386.752</td></tr>\n",
       "<tr><td>4</td><td>6</td><td>10408418</td><td>-0.0</td><td>100.0</td><td>10.0</td><td>16.0</td><td>8.43619</td><td>0.9721</td><td>0.0</td><td>-10.893</td><td>1855</td><td>1825</td><td>30</td><td>2.0</td><td>1</td><td>0.0</td><td>0</td><td>0.0</td><td>30</td><td>84</td><td>103.831</td></tr>\n",
       "<tr><td>5</td><td>8</td><td>10408418</td><td>-0.0</td><td>384.4</td><td>10.0</td><td>16.0</td><td>8.43619</td><td>0.9721</td><td>0.0</td><td>-10.893</td><td>1855</td><td>1825</td><td>30</td><td>2.0</td><td>1</td><td>0.0</td><td>0</td><td>0.0</td><td>30</td><td>84</td><td>103.831</td></tr>\n",
       "<tr><td>6</td><td>10</td><td>10408418</td><td>-0.0</td><td>-100.0</td><td>10.0</td><td>16.0</td><td>8.43619</td><td>0.9721</td><td>0.0</td><td>-10.893</td><td>1855</td><td>1825</td><td>30</td><td>2.0</td><td>1</td><td>0.0</td><td>0</td><td>0.0</td><td>30</td><td>84</td><td>103.831</td></tr>\n",
       "<tr><td>7</td><td>12</td><td>10408418</td><td>0.0</td><td>-384.4</td><td>10.0</td><td>16.0</td><td>8.43619</td><td>0.9721</td><td>0.0</td><td>-10.893</td><td>1855</td><td>1825</td><td>30</td><td>2.0</td><td>1</td><td>0.0</td><td>0</td><td>0.0</td><td>30</td><td>84</td><td>103.831</td></tr>\n",
       "<tr><td>8</td><td>14</td><td>10408418</td><td>-55.4</td><td>0.0</td><td>10.0</td><td>16.0</td><td>8.43619</td><td>0.9721</td><td>0.0</td><td>-10.893</td><td>1855</td><td>1825</td><td>30</td><td>2.0</td><td>1</td><td>0.0</td><td>0</td><td>0.0</td><td>30</td><td>84</td><td>103.831</td></tr>\n",
       "<tr><td>9</td><td>15</td><td>10408418</td><td>-66.9</td><td>298.4</td><td>10.0</td><td>16.0</td><td>8.43619</td><td>0.9721</td><td>0.0</td><td>-10.893</td><td>1855</td><td>1825</td><td>30</td><td>2.0</td><td>1</td><td>0.0</td><td>0</td><td>0.0</td><td>30</td><td>84</td><td>103.831</td></tr>\n",
       "<tr><td>...</td><td>...</td><td>...</td><td>...</td><td>...</td><td>...</td><td>...</td><td>...</td><td>...</td><td>...</td><td>...</td><td>...</td><td>...</td><td>...</td><td>...</td><td>...</td><td>...</td><td>...</td><td>...</td><td>...</td><td>...</td><td>...</td></tr>\n",
       "<tr><td>52</td><td>87</td><td>3709425</td><td>274.8</td><td>-756.2</td><td>7.0</td><td>11.2</td><td>9.36656</td><td>1.0</td><td>0.0</td><td>-0.0</td><td>1141</td><td>1141</td><td>40</td><td>2.0</td><td>1</td><td>0.0</td><td>0</td><td>0.0</td><td>0</td><td>120</td><td>37.175</td></tr>\n",
       "<tr><td>53</td><td>88</td><td>3709425</td><td>476.9</td><td>275.4</td><td>7.0</td><td>11.2</td><td>9.36656</td><td>1.0</td><td>0.0</td><td>-0.0</td><td>1141</td><td>1141</td><td>40</td><td>2.0</td><td>1</td><td>0.0</td><td>0</td><td>0.0</td><td>0</td><td>120</td><td>37.175</td></tr>\n",
       "<tr><td>54</td><td>89</td><td>3709425</td><td>476.9</td><td>-275.4</td><td>7.0</td><td>11.2</td><td>9.36656</td><td>1.0</td><td>0.0</td><td>-0.0</td><td>1141</td><td>1141</td><td>40</td><td>2.0</td><td>1</td><td>0.0</td><td>0</td><td>0.0</td><td>0</td><td>120</td><td>37.175</td></tr>\n",
       "<tr><td>55</td><td>90</td><td>3709425</td><td>483.8</td><td>-0.0</td><td>7.0</td><td>11.2</td><td>9.36656</td><td>1.0</td><td>0.0</td><td>-0.0</td><td>1141</td><td>1141</td><td>40</td><td>2.0</td><td>1</td><td>0.0</td><td>0</td><td>0.0</td><td>0</td><td>120</td><td>37.175</td></tr>\n",
       "<tr><td>56</td><td>91</td><td>3709425</td><td>517.5</td><td>616.1</td><td>7.0</td><td>11.2</td><td>9.36656</td><td>1.0</td><td>0.0</td><td>-0.0</td><td>1141</td><td>1141</td><td>40</td><td>2.0</td><td>1</td><td>0.0</td><td>0</td><td>0.0</td><td>0</td><td>120</td><td>37.175</td></tr>\n",
       "<tr><td>57</td><td>92</td><td>3709425</td><td>517.5</td><td>-616.1</td><td>7.0</td><td>11.2</td><td>9.36656</td><td>1.0</td><td>0.0</td><td>-0.0</td><td>1141</td><td>1141</td><td>40</td><td>2.0</td><td>1</td><td>0.0</td><td>0</td><td>0.0</td><td>0</td><td>120</td><td>37.175</td></tr>\n",
       "<tr><td>58</td><td>93</td><td>3709425</td><td>758.0</td><td>437.6</td><td>7.0</td><td>11.2</td><td>9.36656</td><td>1.0</td><td>0.0</td><td>-0.0</td><td>1141</td><td>1141</td><td>40</td><td>2.0</td><td>1</td><td>0.0</td><td>0</td><td>0.0</td><td>0</td><td>120</td><td>37.175</td></tr>\n",
       "<tr><td>59</td><td>94</td><td>3709425</td><td>758.0</td><td>-437.6</td><td>7.0</td><td>11.2</td><td>9.36656</td><td>1.0</td><td>0.0</td><td>-0.0</td><td>1141</td><td>1141</td><td>40</td><td>2.0</td><td>1</td><td>0.0</td><td>0</td><td>0.0</td><td>0</td><td>120</td><td>37.175</td></tr>\n",
       "<tr><td>60</td><td>95</td><td>3709425</td><td>792.3</td><td>140.1</td><td>7.0</td><td>11.2</td><td>9.36656</td><td>1.0</td><td>0.0</td><td>-0.0</td><td>1141</td><td>1141</td><td>40</td><td>2.0</td><td>1</td><td>0.0</td><td>0</td><td>0.0</td><td>0</td><td>120</td><td>37.175</td></tr>\n",
       "<tr><td>61</td><td>96</td><td>3709425</td><td>792.3</td><td>-140.1</td><td>7.0</td><td>11.2</td><td>9.36656</td><td>1.0</td><td>0.0</td><td>-0.0</td><td>1141</td><td>1141</td><td>40</td><td>2.0</td><td>1</td><td>0.0</td><td>0</td><td>0.0</td><td>0</td><td>120</td><td>37.175</td></tr>\n",
       "</table>"
      ],
      "text/plain": [
       "<Table length=62>\n",
       " L0ID TelID  TelType    TelX  ... HiLoOffset NTubesOFF NMirrors MirrorArea\n",
       "int64 int16   int64   float32 ...  float32     int16    int16    float32  \n",
       "----- ----- --------- ------- ... ---------- --------- -------- ----------\n",
       "    0     1 138704810   -50.0 ...        0.0        70      198    386.752\n",
       "    1     2 138704810   -50.0 ...        0.0        70      198    386.752\n",
       "    2     4 138704810    50.0 ...        0.0        70      198    386.752\n",
       "    3     5 138704810    50.0 ...        0.0        70      198    386.752\n",
       "    4     6  10408418    -0.0 ...        0.0        30       84    103.831\n",
       "    5     8  10408418    -0.0 ...        0.0        30       84    103.831\n",
       "    6    10  10408418    -0.0 ...        0.0        30       84    103.831\n",
       "    7    12  10408418     0.0 ...        0.0        30       84    103.831\n",
       "    8    14  10408418   -55.4 ...        0.0        30       84    103.831\n",
       "    9    15  10408418   -66.9 ...        0.0        30       84    103.831\n",
       "  ...   ...       ...     ... ...        ...       ...      ...        ...\n",
       "   52    87   3709425   274.8 ...        0.0         0      120     37.175\n",
       "   53    88   3709425   476.9 ...        0.0         0      120     37.175\n",
       "   54    89   3709425   476.9 ...        0.0         0      120     37.175\n",
       "   55    90   3709425   483.8 ...        0.0         0      120     37.175\n",
       "   56    91   3709425   517.5 ...        0.0         0      120     37.175\n",
       "   57    92   3709425   517.5 ...        0.0         0      120     37.175\n",
       "   58    93   3709425   758.0 ...        0.0         0      120     37.175\n",
       "   59    94   3709425   758.0 ...        0.0         0      120     37.175\n",
       "   60    95   3709425   792.3 ...        0.0         0      120     37.175\n",
       "   61    96   3709425   792.3 ...        0.0         0      120     37.175"
      ]
     },
     "execution_count": 34,
     "metadata": {},
     "output_type": "execute_result"
    }
   ],
   "source": [
    "tel11['TelescopeTable']"
   ]
  },
  {
   "cell_type": "markdown",
   "metadata": {},
   "source": [
    "Remove the just created file"
   ]
  },
  {
   "cell_type": "code",
   "execution_count": 35,
   "metadata": {
    "collapsed": true
   },
   "outputs": [],
   "source": [
    "os.remove('TelescopeTable.fits')"
   ]
  },
  {
   "cell_type": "code",
   "execution_count": 36,
   "metadata": {
    "collapsed": false
   },
   "outputs": [
    {
     "name": "stdout",
     "output_type": "stream",
     "text": [
      "total 2152\r\n",
      "-rwxr-xr-x@  1 alisonmitchell  staff  173221 10 Oct 16:45 \u001b[31m01_Intro_Python_fabio.ipynb\u001b[m\u001b[m*\r\n",
      "-rwxr-xr-x@  1 alisonmitchell  staff   92378 10 Oct 16:45 \u001b[31mOptimization.ipynb\u001b[m\u001b[m*\r\n",
      "-rwxr-xr-x@  1 alisonmitchell  staff    6674 10 Oct 16:45 \u001b[31mUnitTests.ipynb\u001b[m\u001b[m*\r\n",
      "drwxr-xr-x@ 12 alisonmitchell  staff     408 11 Oct 12:25 \u001b[34mastropy_intro\u001b[m\u001b[m/\r\n",
      "-rwxr-xr-x@  1 alisonmitchell  staff   24407 10 Oct 16:45 \u001b[31mgit-introduction.ipynb\u001b[m\u001b[m*\r\n",
      "-rw-r--r--@  1 alisonmitchell  staff   36937 10 Oct 17:00 git-presentation.ipnb\r\n",
      "-rwxr-xr-x@  1 alisonmitchell  staff   88103 11 Oct 14:46 \u001b[31minstrument_module-training.ipynb\u001b[m\u001b[m*\r\n",
      "-rwxr-xr-x@  1 alisonmitchell  staff  272906 10 Oct 16:54 \u001b[31minteract_camera.ipynb\u001b[m\u001b[m*\r\n",
      "-rwxr-xr-x@  1 alisonmitchell  staff   25656 10 Oct 16:45 \u001b[31mnumpy_intro.ipynb\u001b[m\u001b[m*\r\n",
      "-rwxr-xr-x@  1 alisonmitchell  staff   11827 11 Oct 12:34 \u001b[31mpyhessio-training.ipynb\u001b[m\u001b[m*\r\n",
      "-rwxr-xr-x@  1 alisonmitchell  staff  351946 10 Oct 16:45 \u001b[31mscipy.ipynb\u001b[m\u001b[m*\r\n"
     ]
    }
   ],
   "source": [
    "ll"
   ]
  },
  {
   "cell_type": "code",
   "execution_count": null,
   "metadata": {
    "collapsed": true
   },
   "outputs": [],
   "source": []
  }
 ],
 "metadata": {
  "anaconda-cloud": {},
  "kernelspec": {
   "display_name": "Python [default]",
   "language": "python",
   "name": "python3"
  },
  "language_info": {
   "codemirror_mode": {
    "name": "ipython",
    "version": 3
   },
   "file_extension": ".py",
   "mimetype": "text/x-python",
   "name": "python",
   "nbconvert_exporter": "python",
   "pygments_lexer": "ipython3",
   "version": "3.5.2"
  }
 },
 "nbformat": 4,
 "nbformat_minor": 0
}
